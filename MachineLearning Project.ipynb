{
 "cells": [
  {
   "cell_type": "markdown",
   "metadata": {},
   "source": [
    "# Importing Libraries"
   ]
  },
  {
   "cell_type": "code",
   "execution_count": null,
   "metadata": {},
   "outputs": [],
   "source": [
    "import pandas as pd\n",
    "import numpy as np\n",
    "import pandas as pd\n",
    "import seaborn as sns\n",
    "import matplotlib.pyplot as plt\n",
    "%matplotlib inline"
   ]
  },
  {
   "cell_type": "markdown",
   "metadata": {},
   "source": [
    "# Suppressing Warnings"
   ]
  },
  {
   "cell_type": "code",
   "execution_count": null,
   "metadata": {},
   "outputs": [],
   "source": [
    "import warnings\n",
    "warnings.filterwarnings('ignore')"
   ]
  },
  {
   "cell_type": "markdown",
   "metadata": {},
   "source": [
    "# Importing csv data and view data"
   ]
  },
  {
   "cell_type": "code",
   "execution_count": null,
   "metadata": {},
   "outputs": [],
   "source": [
    "bank_df=pd.read_csv(\"Bank_Personal_Loan_Modelling.csv\")\n",
    "bank_df.head()"
   ]
  },
  {
   "cell_type": "markdown",
   "metadata": {},
   "source": [
    "# Inspecting data"
   ]
  },
  {
   "cell_type": "code",
   "execution_count": null,
   "metadata": {},
   "outputs": [],
   "source": [
    "bank_df.shape"
   ]
  },
  {
   "cell_type": "code",
   "execution_count": null,
   "metadata": {},
   "outputs": [],
   "source": [
    "bank_df.dtypes"
   ]
  },
  {
   "cell_type": "code",
   "execution_count": null,
   "metadata": {},
   "outputs": [],
   "source": [
    "bank_corr=bank_df.corr()\n",
    "plt.subplots(figsize =(15, 10)) \n",
    "sns.heatmap(bank_corr,cmap=\"YlGnBu\",annot=True)"
   ]
  },
  {
   "cell_type": "markdown",
   "metadata": {},
   "source": [
    "# changing following variables to category type"
   ]
  },
  {
   "cell_type": "code",
   "execution_count": null,
   "metadata": {},
   "outputs": [],
   "source": [
    "\n",
    "var=['Family','Education','Personal Loan','Securities Account','CD Account','Online','CreditCard']\n",
    "bank_df[var]=bank_df[var].astype('category')"
   ]
  },
  {
   "cell_type": "code",
   "execution_count": null,
   "metadata": {},
   "outputs": [],
   "source": [
    "bank_df.dtypes"
   ]
  },
  {
   "cell_type": "markdown",
   "metadata": {},
   "source": [
    "# checking blanks, there are no blanks in data"
   ]
  },
  {
   "cell_type": "code",
   "execution_count": null,
   "metadata": {},
   "outputs": [],
   "source": [
    "bank_df.isnull().sum()"
   ]
  },
  {
   "cell_type": "markdown",
   "metadata": {},
   "source": [
    "# Univariate and Bivariate analysis"
   ]
  },
  {
   "cell_type": "markdown",
   "metadata": {},
   "source": [
    "## Family:"
   ]
  },
  {
   "cell_type": "code",
   "execution_count": null,
   "metadata": {},
   "outputs": [],
   "source": [
    "print(pd.pivot_table(data=bank_df,index='Personal Loan',columns='Family',aggfunc='size'))\n",
    "sns.countplot(x='Family',data=bank_df,hue='Personal Loan')"
   ]
  },
  {
   "cell_type": "markdown",
   "metadata": {},
   "source": [
    "## Education:"
   ]
  },
  {
   "cell_type": "code",
   "execution_count": null,
   "metadata": {},
   "outputs": [],
   "source": [
    "print(pd.pivot_table(data=bank_df,index='Personal Loan',columns='Education',aggfunc='size'))\n",
    "sns.countplot(x='Education',data=bank_df,hue='Personal Loan')"
   ]
  },
  {
   "cell_type": "markdown",
   "metadata": {},
   "source": [
    "## Personal Loan:"
   ]
  },
  {
   "cell_type": "code",
   "execution_count": null,
   "metadata": {},
   "outputs": [],
   "source": [
    "print(bank_df['Personal Loan'].value_counts())\n",
    "sns.countplot(x='Personal Loan',data=bank_df)"
   ]
  },
  {
   "cell_type": "markdown",
   "metadata": {},
   "source": [
    "## securities Account:"
   ]
  },
  {
   "cell_type": "code",
   "execution_count": null,
   "metadata": {},
   "outputs": [],
   "source": [
    "print(pd.pivot_table(data=bank_df,index='Personal Loan',columns='Securities Account',aggfunc='size'))\n",
    "sns.countplot(x='Securities Account',data=bank_df,hue='Personal Loan')"
   ]
  },
  {
   "cell_type": "markdown",
   "metadata": {},
   "source": [
    "## Cd Account:"
   ]
  },
  {
   "cell_type": "code",
   "execution_count": null,
   "metadata": {},
   "outputs": [],
   "source": [
    "print(pd.pivot_table(data=bank_df,index='Personal Loan',columns='CD Account',aggfunc='size'))\n",
    "sns.countplot(x='CD Account',data=bank_df,hue='Personal Loan')"
   ]
  },
  {
   "cell_type": "markdown",
   "metadata": {},
   "source": [
    "## Online:"
   ]
  },
  {
   "cell_type": "code",
   "execution_count": null,
   "metadata": {},
   "outputs": [],
   "source": [
    "print(pd.pivot_table(data=bank_df,index='Personal Loan',columns='Online',aggfunc='size'))\n",
    "sns.countplot(x='Online',data=bank_df,hue='Personal Loan')"
   ]
  },
  {
   "cell_type": "markdown",
   "metadata": {},
   "source": [
    "## Credit Card:"
   ]
  },
  {
   "cell_type": "code",
   "execution_count": null,
   "metadata": {},
   "outputs": [],
   "source": [
    "print(pd.pivot_table(data=bank_df,index='Personal Loan',columns='CreditCard',aggfunc='size'))\n",
    "sns.countplot(x='CreditCard',data=bank_df)"
   ]
  },
  {
   "cell_type": "code",
   "execution_count": null,
   "metadata": {},
   "outputs": [],
   "source": [
    "bank_df=bank_df.drop(['ID'],axis=1)"
   ]
  },
  {
   "cell_type": "markdown",
   "metadata": {},
   "source": [
    "## plot figure:"
   ]
  },
  {
   "cell_type": "code",
   "execution_count": null,
   "metadata": {},
   "outputs": [],
   "source": [
    "#plt.figure(figsize = (20,20))\n",
    "sns.pairplot(bank_df,diag_kind='kde')"
   ]
  },
  {
   "cell_type": "code",
   "execution_count": null,
   "metadata": {},
   "outputs": [],
   "source": [
    "#plt.figure(figsize = (20,20))\n",
    "sns.pairplot(bank_df,diag_kind='kde',hue='Personal Loan')"
   ]
  },
  {
   "cell_type": "code",
   "execution_count": null,
   "metadata": {},
   "outputs": [],
   "source": [
    "bank_df.describe()"
   ]
  },
  {
   "cell_type": "code",
   "execution_count": null,
   "metadata": {},
   "outputs": [],
   "source": [
    "#1.We see -3 as experience, need to inspect these values.\n",
    "#2.Income values are skewed.\n",
    "#3.Mortgage col can be ignored as in most cases house is not mortgaged.\n",
    "#4.Zip code is related to area, hence ignoring it for now\n",
    "#5.Above a level og income people have taken personal loan, lower income group dont take a loan, so believe we can\n",
    "#income.\n",
    "#6.Data of personal loan is overlaped wrt to most variables.\n",
    "#7.As per given statement only 480 took Personal Loan out of 5000, this is evident in the data"
   ]
  },
  {
   "cell_type": "code",
   "execution_count": 38,
   "metadata": {},
   "outputs": [
    {
     "data": {
      "text/plain": [
       "(52, 13)"
      ]
     },
     "execution_count": 38,
     "metadata": {},
     "output_type": "execute_result"
    }
   ],
   "source": [
    "#52 records have Experience less than zero, this is an error \n",
    "bank_df[bank_df['Experience']<0].shape"
   ]
  },
  {
   "cell_type": "code",
   "execution_count": 39,
   "metadata": {},
   "outputs": [],
   "source": [
    "#Taking absolute value of Experience column, to remove negative values\n",
    "bank_df['Experience']=abs(bank_df['Experience'])"
   ]
  },
  {
   "cell_type": "code",
   "execution_count": 40,
   "metadata": {},
   "outputs": [
    {
     "data": {
      "text/plain": [
       "count    5000.000000\n",
       "mean       20.134600\n",
       "std        11.415189\n",
       "min         0.000000\n",
       "25%        10.000000\n",
       "50%        20.000000\n",
       "75%        30.000000\n",
       "max        43.000000\n",
       "Name: Experience, dtype: float64"
      ]
     },
     "execution_count": 40,
     "metadata": {},
     "output_type": "execute_result"
    }
   ],
   "source": [
    "bank_df['Experience'].describe()"
   ]
  },
  {
   "cell_type": "markdown",
   "metadata": {},
   "source": [
    "## Age:"
   ]
  },
  {
   "cell_type": "code",
   "execution_count": 41,
   "metadata": {},
   "outputs": [
    {
     "name": "stdout",
     "output_type": "stream",
     "text": [
      "                    mean median\n",
      "                     Age    Age\n",
      "Personal Loan                  \n",
      "0              45.367257     45\n",
      "1              45.066667     45\n"
     ]
    }
   ],
   "source": [
    "print(pd.pivot_table(data=bank_df,index='Personal Loan',values='Age',aggfunc=['mean','median']))"
   ]
  },
  {
   "cell_type": "markdown",
   "metadata": {},
   "source": [
    "## Experience:"
   ]
  },
  {
   "cell_type": "code",
   "execution_count": 42,
   "metadata": {},
   "outputs": [
    {
     "name": "stdout",
     "output_type": "stream",
     "text": [
      "                    mean     median\n",
      "              Experience Experience\n",
      "Personal Loan                      \n",
      "0              20.165487         20\n",
      "1              19.843750         20\n"
     ]
    }
   ],
   "source": [
    "print(pd.pivot_table(data=bank_df,index='Personal Loan',values='Experience',aggfunc=['mean','median']))"
   ]
  },
  {
   "cell_type": "code",
   "execution_count": 43,
   "metadata": {},
   "outputs": [
    {
     "name": "stdout",
     "output_type": "stream",
     "text": [
      "                     mean median\n",
      "                   Income Income\n",
      "Personal Loan                   \n",
      "0               66.237389   59.0\n",
      "1              144.745833  142.5\n"
     ]
    }
   ],
   "source": [
    "#Income, it shows variation to those who took personal loan and those who do not\n",
    "print(pd.pivot_table(data=bank_df,index='Personal Loan',values='Income',aggfunc=['mean','median']))"
   ]
  },
  {
   "cell_type": "code",
   "execution_count": 44,
   "metadata": {},
   "outputs": [
    {
     "name": "stdout",
     "output_type": "stream",
     "text": [
      "                   mean median\n",
      "                  CCAvg  CCAvg\n",
      "Personal Loan                 \n",
      "0              1.729009    1.4\n",
      "1              3.905354    3.8\n"
     ]
    }
   ],
   "source": [
    "#CCAvg, CCAvg spend is higher incase of personal Loan takers.\n",
    "print(pd.pivot_table(data=bank_df,index='Personal Loan',values='CCAvg',aggfunc=['mean','median']))"
   ]
  },
  {
   "cell_type": "markdown",
   "metadata": {},
   "source": [
    "## Mortgage:"
   ]
  },
  {
   "cell_type": "code",
   "execution_count": 45,
   "metadata": {},
   "outputs": [
    {
     "name": "stdout",
     "output_type": "stream",
     "text": [
      "                     mean      max\n",
      "                 Mortgage Mortgage\n",
      "Personal Loan                     \n",
      "0               51.789381      635\n",
      "1              100.845833      617\n"
     ]
    }
   ],
   "source": [
    "print(pd.pivot_table(data=bank_df,index='Personal Loan',values='Mortgage',aggfunc=['mean','max']))"
   ]
  },
  {
   "cell_type": "code",
   "execution_count": 46,
   "metadata": {},
   "outputs": [
    {
     "data": {
      "text/plain": [
       "<matplotlib.axes._subplots.AxesSubplot at 0x2105712d4c8>"
      ]
     },
     "execution_count": 46,
     "metadata": {},
     "output_type": "execute_result"
    },
    {
     "data": {
      "image/png": "[encoded data removed]",
      "text/plain": [
       "<Figure size 432x288 with 2 Axes>"
      ]
     },
     "metadata": {
      "needs_background": "light"
     },
     "output_type": "display_data"
    }
   ],
   "source": [
    "bank_corr=bank_df.corr()\n",
    "sns.heatmap(bank_corr,cmap=\"YlGnBu\",annot=True)"
   ]
  },
  {
   "cell_type": "code",
   "execution_count": 47,
   "metadata": {},
   "outputs": [],
   "source": [
    "#Experience and age have very high correlation value, which is expected. \n",
    "#Income and CCAvg spend also have a strong correlation value."
   ]
  },
  {
   "cell_type": "code",
   "execution_count": 48,
   "metadata": {},
   "outputs": [
    {
     "data": {
      "text/html": [
       "<div>\n",
       "<style scoped>\n",
       "    .dataframe tbody tr th:only-of-type {\n",
       "        vertical-align: middle;\n",
       "    }\n",
       "\n",
       "    .dataframe tbody tr th {\n",
       "        vertical-align: top;\n",
       "    }\n",
       "\n",
       "    .dataframe thead tr th {\n",
       "        text-align: left;\n",
       "    }\n",
       "\n",
       "    .dataframe thead tr:last-of-type th {\n",
       "        text-align: right;\n",
       "    }\n",
       "</style>\n",
       "<table border=\"1\" class=\"dataframe\">\n",
       "  <thead>\n",
       "    <tr>\n",
       "      <th></th>\n",
       "      <th colspan=\"2\" halign=\"left\">Age</th>\n",
       "      <th colspan=\"2\" halign=\"left\">Experience</th>\n",
       "      <th colspan=\"2\" halign=\"left\">Income</th>\n",
       "      <th colspan=\"2\" halign=\"left\">ZIP Code</th>\n",
       "      <th colspan=\"2\" halign=\"left\">CCAvg</th>\n",
       "      <th colspan=\"2\" halign=\"left\">Mortgage</th>\n",
       "    </tr>\n",
       "    <tr>\n",
       "      <th></th>\n",
       "      <th>mean</th>\n",
       "      <th>median</th>\n",
       "      <th>mean</th>\n",
       "      <th>median</th>\n",
       "      <th>mean</th>\n",
       "      <th>median</th>\n",
       "      <th>mean</th>\n",
       "      <th>median</th>\n",
       "      <th>mean</th>\n",
       "      <th>median</th>\n",
       "      <th>mean</th>\n",
       "      <th>median</th>\n",
       "    </tr>\n",
       "    <tr>\n",
       "      <th>Personal Loan</th>\n",
       "      <th></th>\n",
       "      <th></th>\n",
       "      <th></th>\n",
       "      <th></th>\n",
       "      <th></th>\n",
       "      <th></th>\n",
       "      <th></th>\n",
       "      <th></th>\n",
       "      <th></th>\n",
       "      <th></th>\n",
       "      <th></th>\n",
       "      <th></th>\n",
       "    </tr>\n",
       "  </thead>\n",
       "  <tbody>\n",
       "    <tr>\n",
       "      <th>0</th>\n",
       "      <td>45.367257</td>\n",
       "      <td>45</td>\n",
       "      <td>20.165487</td>\n",
       "      <td>20</td>\n",
       "      <td>66.237389</td>\n",
       "      <td>59.0</td>\n",
       "      <td>93152.428761</td>\n",
       "      <td>93437</td>\n",
       "      <td>1.729009</td>\n",
       "      <td>1.4</td>\n",
       "      <td>51.789381</td>\n",
       "      <td>0</td>\n",
       "    </tr>\n",
       "    <tr>\n",
       "      <th>1</th>\n",
       "      <td>45.066667</td>\n",
       "      <td>45</td>\n",
       "      <td>19.843750</td>\n",
       "      <td>20</td>\n",
       "      <td>144.745833</td>\n",
       "      <td>142.5</td>\n",
       "      <td>93153.202083</td>\n",
       "      <td>93407</td>\n",
       "      <td>3.905354</td>\n",
       "      <td>3.8</td>\n",
       "      <td>100.845833</td>\n",
       "      <td>0</td>\n",
       "    </tr>\n",
       "  </tbody>\n",
       "</table>\n",
       "</div>"
      ],
      "text/plain": [
       "                     Age        Experience             Income         \\\n",
       "                    mean median       mean median        mean median   \n",
       "Personal Loan                                                          \n",
       "0              45.367257     45  20.165487     20   66.237389   59.0   \n",
       "1              45.066667     45  19.843750     20  144.745833  142.5   \n",
       "\n",
       "                   ZIP Code            CCAvg           Mortgage         \n",
       "                       mean median      mean median        mean median  \n",
       "Personal Loan                                                           \n",
       "0              93152.428761  93437  1.729009    1.4   51.789381      0  \n",
       "1              93153.202083  93407  3.905354    3.8  100.845833      0  "
      ]
     },
     "execution_count": 48,
     "metadata": {},
     "output_type": "execute_result"
    }
   ],
   "source": [
    "bank_df.groupby(['Personal Loan']).agg(['mean','median'])"
   ]
  },
  {
   "cell_type": "code",
   "execution_count": 49,
   "metadata": {},
   "outputs": [
    {
     "data": {
      "text/html": [
       "<div>\n",
       "<style scoped>\n",
       "    .dataframe tbody tr th:only-of-type {\n",
       "        vertical-align: middle;\n",
       "    }\n",
       "\n",
       "    .dataframe tbody tr th {\n",
       "        vertical-align: top;\n",
       "    }\n",
       "\n",
       "    .dataframe thead tr th {\n",
       "        text-align: left;\n",
       "    }\n",
       "\n",
       "    .dataframe thead tr:last-of-type th {\n",
       "        text-align: right;\n",
       "    }\n",
       "</style>\n",
       "<table border=\"1\" class=\"dataframe\">\n",
       "  <thead>\n",
       "    <tr>\n",
       "      <th></th>\n",
       "      <th colspan=\"2\" halign=\"left\">Age</th>\n",
       "      <th colspan=\"2\" halign=\"left\">Experience</th>\n",
       "      <th colspan=\"2\" halign=\"left\">Income</th>\n",
       "      <th colspan=\"2\" halign=\"left\">ZIP Code</th>\n",
       "      <th colspan=\"2\" halign=\"left\">CCAvg</th>\n",
       "      <th colspan=\"2\" halign=\"left\">Mortgage</th>\n",
       "    </tr>\n",
       "    <tr>\n",
       "      <th></th>\n",
       "      <th>min</th>\n",
       "      <th>max</th>\n",
       "      <th>min</th>\n",
       "      <th>max</th>\n",
       "      <th>min</th>\n",
       "      <th>max</th>\n",
       "      <th>min</th>\n",
       "      <th>max</th>\n",
       "      <th>min</th>\n",
       "      <th>max</th>\n",
       "      <th>min</th>\n",
       "      <th>max</th>\n",
       "    </tr>\n",
       "    <tr>\n",
       "      <th>Personal Loan</th>\n",
       "      <th></th>\n",
       "      <th></th>\n",
       "      <th></th>\n",
       "      <th></th>\n",
       "      <th></th>\n",
       "      <th></th>\n",
       "      <th></th>\n",
       "      <th></th>\n",
       "      <th></th>\n",
       "      <th></th>\n",
       "      <th></th>\n",
       "      <th></th>\n",
       "    </tr>\n",
       "  </thead>\n",
       "  <tbody>\n",
       "    <tr>\n",
       "      <th>0</th>\n",
       "      <td>23</td>\n",
       "      <td>67</td>\n",
       "      <td>0</td>\n",
       "      <td>43</td>\n",
       "      <td>8</td>\n",
       "      <td>224</td>\n",
       "      <td>9307</td>\n",
       "      <td>96651</td>\n",
       "      <td>0.0</td>\n",
       "      <td>8.8</td>\n",
       "      <td>0</td>\n",
       "      <td>635</td>\n",
       "    </tr>\n",
       "    <tr>\n",
       "      <th>1</th>\n",
       "      <td>26</td>\n",
       "      <td>65</td>\n",
       "      <td>0</td>\n",
       "      <td>41</td>\n",
       "      <td>60</td>\n",
       "      <td>203</td>\n",
       "      <td>90016</td>\n",
       "      <td>96008</td>\n",
       "      <td>0.0</td>\n",
       "      <td>10.0</td>\n",
       "      <td>0</td>\n",
       "      <td>617</td>\n",
       "    </tr>\n",
       "  </tbody>\n",
       "</table>\n",
       "</div>"
      ],
      "text/plain": [
       "              Age     Experience     Income      ZIP Code        CCAvg        \\\n",
       "              min max        min max    min  max      min    max   min   max   \n",
       "Personal Loan                                                                  \n",
       "0              23  67          0  43      8  224     9307  96651   0.0   8.8   \n",
       "1              26  65          0  41     60  203    90016  96008   0.0  10.0   \n",
       "\n",
       "              Mortgage       \n",
       "                   min  max  \n",
       "Personal Loan                \n",
       "0                    0  635  \n",
       "1                    0  617  "
      ]
     },
     "execution_count": 49,
     "metadata": {},
     "output_type": "execute_result"
    }
   ],
   "source": [
    "bank_df.groupby(['Personal Loan']).agg(['min','max'])"
   ]
  },
  {
   "cell_type": "code",
   "execution_count": 50,
   "metadata": {},
   "outputs": [
    {
     "data": {
      "text/plain": [
       "<matplotlib.axes._subplots.AxesSubplot at 0x21056b03d48>"
      ]
     },
     "execution_count": 50,
     "metadata": {},
     "output_type": "execute_result"
    },
    {
     "data": {
      "image/png": "[encoded data removed]",
      "text/plain": [
       "<Figure size 432x288 with 1 Axes>"
      ]
     },
     "metadata": {
      "needs_background": "light"
     },
     "output_type": "display_data"
    }
   ],
   "source": [
    "sns.boxplot(x='Personal Loan',y='Age',data=bank_df)"
   ]
  },
  {
   "cell_type": "code",
   "execution_count": 51,
   "metadata": {},
   "outputs": [
    {
     "data": {
      "text/plain": [
       "<matplotlib.axes._subplots.AxesSubplot at 0x2105a813c08>"
      ]
     },
     "execution_count": 51,
     "metadata": {},
     "output_type": "execute_result"
    },
    {
     "data": {
      "image/png": "[encoded data removed]",
      "text/plain": [
       "<Figure size 432x288 with 1 Axes>"
      ]
     },
     "metadata": {
      "needs_background": "light"
     },
     "output_type": "display_data"
    }
   ],
   "source": [
    "sns.boxplot(x='Personal Loan',y='Experience',data=bank_df)"
   ]
  },
  {
   "cell_type": "code",
   "execution_count": 52,
   "metadata": {},
   "outputs": [
    {
     "data": {
      "text/plain": [
       "<matplotlib.axes._subplots.AxesSubplot at 0x2105a5a5dc8>"
      ]
     },
     "execution_count": 52,
     "metadata": {},
     "output_type": "execute_result"
    },
    {
     "data": {
      "image/png": "[encoded data removed]",
      "text/plain": [
       "<Figure size 432x288 with 1 Axes>"
      ]
     },
     "metadata": {
      "needs_background": "light"
     },
     "output_type": "display_data"
    }
   ],
   "source": [
    "sns.boxplot(x='Personal Loan',y='Income',data=bank_df)"
   ]
  },
  {
   "cell_type": "code",
   "execution_count": 53,
   "metadata": {},
   "outputs": [
    {
     "data": {
      "text/plain": [
       "<matplotlib.axes._subplots.AxesSubplot at 0x210573d6a88>"
      ]
     },
     "execution_count": 53,
     "metadata": {},
     "output_type": "execute_result"
    },
    {
     "data": {
      "image/png": "[encoded data removed]",
      "text/plain": [
       "<Figure size 432x288 with 1 Axes>"
      ]
     },
     "metadata": {
      "needs_background": "light"
     },
     "output_type": "display_data"
    }
   ],
   "source": [
    "sns.boxplot(x='Personal Loan',y='CCAvg',data=bank_df)"
   ]
  },
  {
   "cell_type": "code",
   "execution_count": 54,
   "metadata": {},
   "outputs": [],
   "source": [
    "#Creating family dummy Variables\n",
    "fa = pd.get_dummies(bank_df['Family'], prefix='Family')\n",
    "#Adding the results to the master dataframe\n",
    "bank_df1 = pd.concat([bank_df,fa], axis=1)"
   ]
  },
  {
   "cell_type": "code",
   "execution_count": 55,
   "metadata": {},
   "outputs": [],
   "source": [
    "#Creating education dummy Variables\n",
    "ed = pd.get_dummies(bank_df['Education'], prefix='Education')\n",
    "#Adding the results to the master dataframe\n",
    "bank_df1 = pd.concat([bank_df1,ed], axis=1)"
   ]
  },
  {
   "cell_type": "code",
   "execution_count": 56,
   "metadata": {},
   "outputs": [],
   "source": [
    "# We have created dummies for the below variables, so we can drop them\n",
    "##bank_df2 is our new dataset after cleaning and transformation\n",
    "bank_df2=bank_df1.drop(['Education','Family'],1)"
   ]
  },
  {
   "cell_type": "code",
   "execution_count": 57,
   "metadata": {},
   "outputs": [],
   "source": [
    "var=['Securities Account','CD Account','Online','CreditCard']\n",
    "bank_df2[var]=bank_df2[var].astype('int64')"
   ]
  },
  {
   "cell_type": "code",
   "execution_count": 58,
   "metadata": {},
   "outputs": [],
   "source": [
    "bank_df2_X = bank_df2.drop(['Personal Loan'], axis=1)\n",
    "X = bank_df2.drop(['Personal Loan'], axis=1)\n",
    "y = bank_df2['Personal Loan']"
   ]
  },
  {
   "cell_type": "code",
   "execution_count": 59,
   "metadata": {},
   "outputs": [
    {
     "data": {
      "text/plain": [
       "Age                     int64\n",
       "Experience              int64\n",
       "Income                  int64\n",
       "ZIP Code                int64\n",
       "CCAvg                 float64\n",
       "Mortgage                int64\n",
       "Securities Account      int64\n",
       "CD Account              int64\n",
       "Online                  int64\n",
       "CreditCard              int64\n",
       "Family_1                uint8\n",
       "Family_2                uint8\n",
       "Family_3                uint8\n",
       "Family_4                uint8\n",
       "Education_1             uint8\n",
       "Education_2             uint8\n",
       "Education_3             uint8\n",
       "dtype: object"
      ]
     },
     "execution_count": 59,
     "metadata": {},
     "output_type": "execute_result"
    }
   ],
   "source": [
    "X.dtypes"
   ]
  },
  {
   "cell_type": "markdown",
   "metadata": {},
   "source": [
    "## Test Train Split:"
   ]
  },
  {
   "cell_type": "code",
   "execution_count": 60,
   "metadata": {},
   "outputs": [],
   "source": [
    "from sklearn.model_selection import train_test_split\n",
    "X_train, X_test, y_train, y_test = train_test_split(bank_df2_X, y, train_size=0.7, test_size=0.3, random_state=100)"
   ]
  },
  {
   "cell_type": "markdown",
   "metadata": {},
   "source": [
    "## Feature Scaling Library:"
   ]
  },
  {
   "cell_type": "code",
   "execution_count": 61,
   "metadata": {},
   "outputs": [],
   "source": [
    "from sklearn.preprocessing import StandardScaler"
   ]
  },
  {
   "cell_type": "markdown",
   "metadata": {},
   "source": [
    "## Applying Scaling to training set"
   ]
  },
  {
   "cell_type": "code",
   "execution_count": 63,
   "metadata": {},
   "outputs": [],
   "source": [
    "scaler = StandardScaler()\n",
    "X_train[['Age','Experience','Income','CCAvg']] = scaler.fit_transform(X_train[['Age','Experience','Income','CCAvg']])\n",
    "X_test[['Age','Experience','Income','CCAvg']] = scaler.transform(X_test[['Age','Experience','Income','CCAvg']])"
   ]
  },
  {
   "cell_type": "markdown",
   "metadata": {},
   "source": [
    "# Model Implementation:"
   ]
  },
  {
   "cell_type": "code",
   "execution_count": 64,
   "metadata": {},
   "outputs": [
    {
     "name": "stdout",
     "output_type": "stream",
     "text": [
      "Optimization terminated successfully.\n",
      "         Current function value: 0.106272\n",
      "         Iterations 10\n",
      "                          Results: Logit\n",
      "===================================================================\n",
      "Model:               Logit            Pseudo R-squared: 0.654      \n",
      "Dependent Variable:  Personal Loan    AIC:              775.9029   \n",
      "Date:                2020-09-05 21:59 BIC:              874.4712   \n",
      "No. Observations:    3500             Log-Likelihood:   -371.95    \n",
      "Df Model:            15               LL-Null:          -1075.0    \n",
      "Df Residuals:        3484             LLR p-value:      8.1329e-291\n",
      "Converged:           1.0000           Scale:            1.0000     \n",
      "No. Iterations:      10.0000                                       \n",
      "-------------------------------------------------------------------\n",
      "                    Coef.   Std.Err.    z    P>|z|   [0.025  0.975]\n",
      "-------------------------------------------------------------------\n",
      "Age                 -0.0555   0.9058 -0.0613 0.9512 -1.8309  1.7199\n",
      "Experience           0.2542   0.9010  0.2821 0.7778 -1.5118  2.0202\n",
      "Income               3.0650   0.1840 16.6580 0.0000  2.7044  3.4256\n",
      "ZIP Code             0.0001   0.0001  1.8564 0.0634 -0.0000  0.0002\n",
      "CCAvg                0.3660   0.1006  3.6388 0.0003  0.1688  0.5631\n",
      "Mortgage             0.0010   0.0007  1.3685 0.1711 -0.0004  0.0025\n",
      "Securities Account  -0.5286   0.3564 -1.4832 0.1380 -1.2271  0.1699\n",
      "CD Account           3.3104   0.4148  7.9815 0.0000  2.4975  4.1234\n",
      "Online              -1.0439   0.2115 -4.9346 0.0000 -1.4585 -0.6293\n",
      "CreditCard          -0.7903   0.2545 -3.1058 0.0019 -1.2890 -0.2916\n",
      "Family_1            -6.8481      nan     nan    nan     nan     nan\n",
      "Family_2            -7.1644      nan     nan    nan     nan     nan\n",
      "Family_3            -5.0314      nan     nan    nan     nan     nan\n",
      "Family_4            -5.1966      nan     nan    nan     nan     nan\n",
      "Education_1        -11.0313      nan     nan    nan     nan     nan\n",
      "Education_2         -6.7219      nan     nan    nan     nan     nan\n",
      "Education_3         -6.4865      nan     nan    nan     nan     nan\n",
      "===================================================================\n",
      "\n"
     ]
    }
   ],
   "source": [
    "#ITERATION 1 - Fitting all the features in the first iteration\n",
    "import statsmodels.api as sm\n",
    "logit_model=sm.Logit(y_train,X_train)\n",
    "result1=logit_model.fit()\n",
    "print(result1.summary2())"
   ]
  },
  {
   "cell_type": "code",
   "execution_count": 65,
   "metadata": {},
   "outputs": [],
   "source": [
    "#dropping Family_2 and Education_1 in iteration 2 as they have high p value\n",
    "X_train1 = X_train.drop(['Family_2','Education_1'], axis=1)"
   ]
  },
  {
   "cell_type": "code",
   "execution_count": 67,
   "metadata": {},
   "outputs": [
    {
     "name": "stdout",
     "output_type": "stream",
     "text": [
      "Optimization terminated successfully.\n",
      "         Current function value: 0.108009\n",
      "         Iterations 10\n",
      "                          Results: Logit\n",
      "===================================================================\n",
      "Model:               Logit            Pseudo R-squared: 0.648      \n",
      "Dependent Variable:  Personal Loan    AIC:              786.0626   \n",
      "Date:                2020-09-05 22:00 BIC:              878.4704   \n",
      "No. Observations:    3500             Log-Likelihood:   -378.03    \n",
      "Df Model:            14               LL-Null:          -1075.0    \n",
      "Df Residuals:        3485             LLR p-value:      3.3044e-289\n",
      "Converged:           1.0000           Scale:            1.0000     \n",
      "No. Iterations:      10.0000                                       \n",
      "-------------------------------------------------------------------\n",
      "                    Coef.  Std.Err.    z     P>|z|   [0.025  0.975]\n",
      "-------------------------------------------------------------------\n",
      "Age                -0.0389   0.8931  -0.0436 0.9652 -1.7894  1.7115\n",
      "Experience          0.2218   0.8877   0.2499 0.8027 -1.5180  1.9617\n",
      "Income              3.0111   0.1798  16.7507 0.0000  2.6588  3.3634\n",
      "ZIP Code           -0.0001   0.0000 -17.2672 0.0000 -0.0001 -0.0001\n",
      "CCAvg               0.3505   0.0999   3.5077 0.0005  0.1547  0.5464\n",
      "Mortgage            0.0010   0.0007   1.3652 0.1722 -0.0004  0.0025\n",
      "Securities Account -0.5717   0.3543  -1.6137 0.1066 -1.2660  0.1227\n",
      "CD Account          3.3869   0.4124   8.2131 0.0000  2.5786  4.1951\n",
      "Online             -1.0183   0.2094  -4.8625 0.0000 -1.4288 -0.6078\n",
      "CreditCard         -0.7974   0.2528  -3.1544 0.0016 -1.2928 -0.3019\n",
      "Family_1            0.2249   0.2880   0.7808 0.4349 -0.3396  0.7894\n",
      "Family_3            1.9748   0.3222   6.1284 0.0000  1.3432  2.6064\n",
      "Family_4            1.8508   0.3064   6.0413 0.0000  1.2503  2.4512\n",
      "Education_2         4.2505   0.3588  11.8478 0.0000  3.5473  4.9536\n",
      "Education_3         4.4494   0.3499  12.7165 0.0000  3.7636  5.1352\n",
      "===================================================================\n",
      "\n"
     ]
    }
   ],
   "source": [
    "#IRERATION 2\n",
    "logit_model=sm.Logit(y_train,X_train1)\n",
    "result2=logit_model.fit()\n",
    "print(result2.summary2())"
   ]
  },
  {
   "cell_type": "code",
   "execution_count": 68,
   "metadata": {},
   "outputs": [],
   "source": [
    "# Check for the VIF values of the feature variables. \n",
    "from statsmodels.stats.outliers_influence import variance_inflation_factor"
   ]
  },
  {
   "cell_type": "code",
   "execution_count": 69,
   "metadata": {},
   "outputs": [
    {
     "data": {
      "text/html": [
       "<div>\n",
       "<style scoped>\n",
       "    .dataframe tbody tr th:only-of-type {\n",
       "        vertical-align: middle;\n",
       "    }\n",
       "\n",
       "    .dataframe tbody tr th {\n",
       "        vertical-align: top;\n",
       "    }\n",
       "\n",
       "    .dataframe thead th {\n",
       "        text-align: right;\n",
       "    }\n",
       "</style>\n",
       "<table border=\"1\" class=\"dataframe\">\n",
       "  <thead>\n",
       "    <tr style=\"text-align: right;\">\n",
       "      <th></th>\n",
       "      <th>Features</th>\n",
       "      <th>VIF</th>\n",
       "    </tr>\n",
       "  </thead>\n",
       "  <tbody>\n",
       "    <tr>\n",
       "      <th>0</th>\n",
       "      <td>Age</td>\n",
       "      <td>86.35</td>\n",
       "    </tr>\n",
       "    <tr>\n",
       "      <th>1</th>\n",
       "      <td>Experience</td>\n",
       "      <td>86.22</td>\n",
       "    </tr>\n",
       "    <tr>\n",
       "      <th>3</th>\n",
       "      <td>ZIP Code</td>\n",
       "      <td>7.86</td>\n",
       "    </tr>\n",
       "    <tr>\n",
       "      <th>8</th>\n",
       "      <td>Online</td>\n",
       "      <td>2.61</td>\n",
       "    </tr>\n",
       "    <tr>\n",
       "      <th>10</th>\n",
       "      <td>Family_1</td>\n",
       "      <td>2.12</td>\n",
       "    </tr>\n",
       "    <tr>\n",
       "      <th>12</th>\n",
       "      <td>Family_4</td>\n",
       "      <td>2.05</td>\n",
       "    </tr>\n",
       "    <tr>\n",
       "      <th>14</th>\n",
       "      <td>Education_3</td>\n",
       "      <td>1.90</td>\n",
       "    </tr>\n",
       "    <tr>\n",
       "      <th>2</th>\n",
       "      <td>Income</td>\n",
       "      <td>1.88</td>\n",
       "    </tr>\n",
       "    <tr>\n",
       "      <th>11</th>\n",
       "      <td>Family_3</td>\n",
       "      <td>1.88</td>\n",
       "    </tr>\n",
       "    <tr>\n",
       "      <th>13</th>\n",
       "      <td>Education_2</td>\n",
       "      <td>1.79</td>\n",
       "    </tr>\n",
       "    <tr>\n",
       "      <th>4</th>\n",
       "      <td>CCAvg</td>\n",
       "      <td>1.75</td>\n",
       "    </tr>\n",
       "    <tr>\n",
       "      <th>9</th>\n",
       "      <td>CreditCard</td>\n",
       "      <td>1.58</td>\n",
       "    </tr>\n",
       "    <tr>\n",
       "      <th>7</th>\n",
       "      <td>CD Account</td>\n",
       "      <td>1.40</td>\n",
       "    </tr>\n",
       "    <tr>\n",
       "      <th>5</th>\n",
       "      <td>Mortgage</td>\n",
       "      <td>1.36</td>\n",
       "    </tr>\n",
       "    <tr>\n",
       "      <th>6</th>\n",
       "      <td>Securities Account</td>\n",
       "      <td>1.27</td>\n",
       "    </tr>\n",
       "  </tbody>\n",
       "</table>\n",
       "</div>"
      ],
      "text/plain": [
       "              Features    VIF\n",
       "0                  Age  86.35\n",
       "1           Experience  86.22\n",
       "3             ZIP Code   7.86\n",
       "8               Online   2.61\n",
       "10            Family_1   2.12\n",
       "12            Family_4   2.05\n",
       "14         Education_3   1.90\n",
       "2               Income   1.88\n",
       "11            Family_3   1.88\n",
       "13         Education_2   1.79\n",
       "4                CCAvg   1.75\n",
       "9           CreditCard   1.58\n",
       "7           CD Account   1.40\n",
       "5             Mortgage   1.36\n",
       "6   Securities Account   1.27"
      ]
     },
     "execution_count": 69,
     "metadata": {},
     "output_type": "execute_result"
    }
   ],
   "source": [
    "# Create a dataframe that will contain the names of all the feature variables and their respective VIFs\n",
    "col = X_train1.columns\n",
    "vif = pd.DataFrame()\n",
    "vif['Features'] = X_train1[col].columns\n",
    "vif['VIF'] = [variance_inflation_factor(X_train1[col].values, i) for i in range(X_train1[col].shape[1])]\n",
    "vif['VIF'] = round(vif['VIF'], 2)\n",
    "vif = vif.sort_values(by = \"VIF\", ascending = False)\n",
    "vif"
   ]
  },
  {
   "cell_type": "code",
   "execution_count": 70,
   "metadata": {},
   "outputs": [],
   "source": [
    "#dropping Age as it high VIF value and its very strongly correlated to experience in correlation matrix\n",
    "X_train1 = X_train.drop(['Family_2','Education_1','Age'],axis=1)"
   ]
  },
  {
   "cell_type": "code",
   "execution_count": 71,
   "metadata": {},
   "outputs": [
    {
     "name": "stdout",
     "output_type": "stream",
     "text": [
      "Optimization terminated successfully.\n",
      "         Current function value: 0.108009\n",
      "         Iterations 10\n",
      "                          Results: Logit\n",
      "===================================================================\n",
      "Model:               Logit            Pseudo R-squared: 0.648      \n",
      "Dependent Variable:  Personal Loan    AIC:              784.0646   \n",
      "Date:                2020-09-05 22:01 BIC:              870.3118   \n",
      "No. Observations:    3500             Log-Likelihood:   -378.03    \n",
      "Df Model:            13               LL-Null:          -1075.0    \n",
      "Df Residuals:        3486             LLR p-value:      3.1311e-290\n",
      "Converged:           1.0000           Scale:            1.0000     \n",
      "No. Iterations:      10.0000                                       \n",
      "-------------------------------------------------------------------\n",
      "                    Coef.  Std.Err.    z     P>|z|   [0.025  0.975]\n",
      "-------------------------------------------------------------------\n",
      "Experience          0.1834   0.0966   1.8989 0.0576 -0.0059  0.3726\n",
      "Income              3.0115   0.1795  16.7745 0.0000  2.6596  3.3634\n",
      "ZIP Code           -0.0001   0.0000 -17.2660 0.0000 -0.0001 -0.0001\n",
      "CCAvg               0.3506   0.0999   3.5093 0.0004  0.1548  0.5464\n",
      "Mortgage            0.0010   0.0007   1.3646 0.1724 -0.0004  0.0025\n",
      "Securities Account -0.5713   0.3541  -1.6133 0.1067 -1.2654  0.1228\n",
      "CD Account          3.3870   0.4123   8.2141 0.0000  2.5788  4.1952\n",
      "Online             -1.0179   0.2092  -4.8651 0.0000 -1.4280 -0.6078\n",
      "CreditCard         -0.7970   0.2526  -3.1549 0.0016 -1.2921 -0.3019\n",
      "Family_1            0.2249   0.2880   0.7808 0.4349 -0.3396  0.7894\n",
      "Family_3            1.9750   0.3222   6.1294 0.0000  1.3435  2.6065\n",
      "Family_4            1.8511   0.3063   6.0432 0.0000  1.2507  2.4514\n",
      "Education_2         4.2497   0.3584  11.8591 0.0000  3.5474  4.9521\n",
      "Education_3         4.4476   0.3475  12.7997 0.0000  3.7666  5.1287\n",
      "===================================================================\n",
      "\n"
     ]
    }
   ],
   "source": [
    "#ITERATION 3\n",
    "logit_model=sm.Logit(y_train,X_train1)\n",
    "result3=logit_model.fit()\n",
    "print(result3.summary2())"
   ]
  },
  {
   "cell_type": "code",
   "execution_count": 72,
   "metadata": {},
   "outputs": [
    {
     "data": {
      "text/html": [
       "<div>\n",
       "<style scoped>\n",
       "    .dataframe tbody tr th:only-of-type {\n",
       "        vertical-align: middle;\n",
       "    }\n",
       "\n",
       "    .dataframe tbody tr th {\n",
       "        vertical-align: top;\n",
       "    }\n",
       "\n",
       "    .dataframe thead th {\n",
       "        text-align: right;\n",
       "    }\n",
       "</style>\n",
       "<table border=\"1\" class=\"dataframe\">\n",
       "  <thead>\n",
       "    <tr style=\"text-align: right;\">\n",
       "      <th></th>\n",
       "      <th>Features</th>\n",
       "      <th>VIF</th>\n",
       "    </tr>\n",
       "  </thead>\n",
       "  <tbody>\n",
       "    <tr>\n",
       "      <th>2</th>\n",
       "      <td>ZIP Code</td>\n",
       "      <td>7.75</td>\n",
       "    </tr>\n",
       "    <tr>\n",
       "      <th>7</th>\n",
       "      <td>Online</td>\n",
       "      <td>2.61</td>\n",
       "    </tr>\n",
       "    <tr>\n",
       "      <th>9</th>\n",
       "      <td>Family_1</td>\n",
       "      <td>2.12</td>\n",
       "    </tr>\n",
       "    <tr>\n",
       "      <th>11</th>\n",
       "      <td>Family_4</td>\n",
       "      <td>2.05</td>\n",
       "    </tr>\n",
       "    <tr>\n",
       "      <th>1</th>\n",
       "      <td>Income</td>\n",
       "      <td>1.87</td>\n",
       "    </tr>\n",
       "    <tr>\n",
       "      <th>10</th>\n",
       "      <td>Family_3</td>\n",
       "      <td>1.87</td>\n",
       "    </tr>\n",
       "    <tr>\n",
       "      <th>13</th>\n",
       "      <td>Education_3</td>\n",
       "      <td>1.78</td>\n",
       "    </tr>\n",
       "    <tr>\n",
       "      <th>12</th>\n",
       "      <td>Education_2</td>\n",
       "      <td>1.77</td>\n",
       "    </tr>\n",
       "    <tr>\n",
       "      <th>3</th>\n",
       "      <td>CCAvg</td>\n",
       "      <td>1.75</td>\n",
       "    </tr>\n",
       "    <tr>\n",
       "      <th>8</th>\n",
       "      <td>CreditCard</td>\n",
       "      <td>1.58</td>\n",
       "    </tr>\n",
       "    <tr>\n",
       "      <th>6</th>\n",
       "      <td>CD Account</td>\n",
       "      <td>1.40</td>\n",
       "    </tr>\n",
       "    <tr>\n",
       "      <th>4</th>\n",
       "      <td>Mortgage</td>\n",
       "      <td>1.36</td>\n",
       "    </tr>\n",
       "    <tr>\n",
       "      <th>5</th>\n",
       "      <td>Securities Account</td>\n",
       "      <td>1.27</td>\n",
       "    </tr>\n",
       "    <tr>\n",
       "      <th>0</th>\n",
       "      <td>Experience</td>\n",
       "      <td>1.01</td>\n",
       "    </tr>\n",
       "  </tbody>\n",
       "</table>\n",
       "</div>"
      ],
      "text/plain": [
       "              Features   VIF\n",
       "2             ZIP Code  7.75\n",
       "7               Online  2.61\n",
       "9             Family_1  2.12\n",
       "11            Family_4  2.05\n",
       "1               Income  1.87\n",
       "10            Family_3  1.87\n",
       "13         Education_3  1.78\n",
       "12         Education_2  1.77\n",
       "3                CCAvg  1.75\n",
       "8           CreditCard  1.58\n",
       "6           CD Account  1.40\n",
       "4             Mortgage  1.36\n",
       "5   Securities Account  1.27\n",
       "0           Experience  1.01"
      ]
     },
     "execution_count": 72,
     "metadata": {},
     "output_type": "execute_result"
    }
   ],
   "source": [
    "# Create a dataframe that will contain the names of all the feature variables and their respective VIFs\n",
    "col = X_train1.columns\n",
    "vif = pd.DataFrame()\n",
    "vif['Features'] = X_train1[col].columns\n",
    "vif['VIF'] = [variance_inflation_factor(X_train1[col].values, i) for i in range(X_train1[col].shape[1])]\n",
    "vif['VIF'] = round(vif['VIF'], 2)\n",
    "vif = vif.sort_values(by = \"VIF\", ascending = False)\n",
    "vif"
   ]
  },
  {
   "cell_type": "code",
   "execution_count": 73,
   "metadata": {},
   "outputs": [],
   "source": [
    "#dropping Mortgage as it high p value\n",
    "X_train1 = X_train.drop(['Family_2','Education_1','Age','Mortgage'],axis=1)"
   ]
  },
  {
   "cell_type": "code",
   "execution_count": 74,
   "metadata": {},
   "outputs": [
    {
     "name": "stdout",
     "output_type": "stream",
     "text": [
      "Optimization terminated successfully.\n",
      "         Current function value: 0.108273\n",
      "         Iterations 9\n",
      "                          Results: Logit\n",
      "===================================================================\n",
      "Model:               Logit            Pseudo R-squared: 0.647      \n",
      "Dependent Variable:  Personal Loan    AIC:              783.9101   \n",
      "Date:                2020-09-05 22:01 BIC:              863.9969   \n",
      "No. Observations:    3500             Log-Likelihood:   -378.96    \n",
      "Df Model:            12               LL-Null:          -1075.0    \n",
      "Df Residuals:        3487             LLR p-value:      7.1073e-291\n",
      "Converged:           1.0000           Scale:            1.0000     \n",
      "No. Iterations:      9.0000                                        \n",
      "-------------------------------------------------------------------\n",
      "                    Coef.  Std.Err.    z     P>|z|   [0.025  0.975]\n",
      "-------------------------------------------------------------------\n",
      "Experience          0.1793   0.0964   1.8593 0.0630 -0.0097  0.3682\n",
      "Income              3.0247   0.1792  16.8764 0.0000  2.6735  3.3760\n",
      "ZIP Code           -0.0001   0.0000 -17.3432 0.0000 -0.0001 -0.0001\n",
      "CCAvg               0.3390   0.0996   3.4037 0.0007  0.1438  0.5343\n",
      "Securities Account -0.5761   0.3533  -1.6306 0.1030 -1.2685  0.1163\n",
      "CD Account          3.4003   0.4124   8.2446 0.0000  2.5919  4.2086\n",
      "Online             -1.0113   0.2087  -4.8452 0.0000 -1.4204 -0.6022\n",
      "CreditCard         -0.8033   0.2519  -3.1893 0.0014 -1.2970 -0.3096\n",
      "Family_1            0.2205   0.2881   0.7653 0.4441 -0.3442  0.7853\n",
      "Family_3            1.9799   0.3222   6.1450 0.0000  1.3484  2.6114\n",
      "Family_4            1.8566   0.3065   6.0571 0.0000  1.2558  2.4574\n",
      "Education_2         4.2150   0.3564  11.8264 0.0000  3.5165  4.9136\n",
      "Education_3         4.4082   0.3450  12.7777 0.0000  3.7320  5.0844\n",
      "===================================================================\n",
      "\n"
     ]
    }
   ],
   "source": [
    "#ITERATION 4\n",
    "logit_model=sm.Logit(y_train,X_train1)\n",
    "result4=logit_model.fit()\n",
    "print(result4.summary2())"
   ]
  },
  {
   "cell_type": "code",
   "execution_count": 75,
   "metadata": {},
   "outputs": [
    {
     "data": {
      "text/html": [
       "<div>\n",
       "<style scoped>\n",
       "    .dataframe tbody tr th:only-of-type {\n",
       "        vertical-align: middle;\n",
       "    }\n",
       "\n",
       "    .dataframe tbody tr th {\n",
       "        vertical-align: top;\n",
       "    }\n",
       "\n",
       "    .dataframe thead th {\n",
       "        text-align: right;\n",
       "    }\n",
       "</style>\n",
       "<table border=\"1\" class=\"dataframe\">\n",
       "  <thead>\n",
       "    <tr style=\"text-align: right;\">\n",
       "      <th></th>\n",
       "      <th>Features</th>\n",
       "      <th>VIF</th>\n",
       "    </tr>\n",
       "  </thead>\n",
       "  <tbody>\n",
       "    <tr>\n",
       "      <th>2</th>\n",
       "      <td>ZIP Code</td>\n",
       "      <td>7.39</td>\n",
       "    </tr>\n",
       "    <tr>\n",
       "      <th>6</th>\n",
       "      <td>Online</td>\n",
       "      <td>2.61</td>\n",
       "    </tr>\n",
       "    <tr>\n",
       "      <th>8</th>\n",
       "      <td>Family_1</td>\n",
       "      <td>2.12</td>\n",
       "    </tr>\n",
       "    <tr>\n",
       "      <th>10</th>\n",
       "      <td>Family_4</td>\n",
       "      <td>2.05</td>\n",
       "    </tr>\n",
       "    <tr>\n",
       "      <th>9</th>\n",
       "      <td>Family_3</td>\n",
       "      <td>1.87</td>\n",
       "    </tr>\n",
       "    <tr>\n",
       "      <th>1</th>\n",
       "      <td>Income</td>\n",
       "      <td>1.83</td>\n",
       "    </tr>\n",
       "    <tr>\n",
       "      <th>12</th>\n",
       "      <td>Education_3</td>\n",
       "      <td>1.78</td>\n",
       "    </tr>\n",
       "    <tr>\n",
       "      <th>11</th>\n",
       "      <td>Education_2</td>\n",
       "      <td>1.77</td>\n",
       "    </tr>\n",
       "    <tr>\n",
       "      <th>3</th>\n",
       "      <td>CCAvg</td>\n",
       "      <td>1.74</td>\n",
       "    </tr>\n",
       "    <tr>\n",
       "      <th>7</th>\n",
       "      <td>CreditCard</td>\n",
       "      <td>1.58</td>\n",
       "    </tr>\n",
       "    <tr>\n",
       "      <th>5</th>\n",
       "      <td>CD Account</td>\n",
       "      <td>1.40</td>\n",
       "    </tr>\n",
       "    <tr>\n",
       "      <th>4</th>\n",
       "      <td>Securities Account</td>\n",
       "      <td>1.27</td>\n",
       "    </tr>\n",
       "    <tr>\n",
       "      <th>0</th>\n",
       "      <td>Experience</td>\n",
       "      <td>1.01</td>\n",
       "    </tr>\n",
       "  </tbody>\n",
       "</table>\n",
       "</div>"
      ],
      "text/plain": [
       "              Features   VIF\n",
       "2             ZIP Code  7.39\n",
       "6               Online  2.61\n",
       "8             Family_1  2.12\n",
       "10            Family_4  2.05\n",
       "9             Family_3  1.87\n",
       "1               Income  1.83\n",
       "12         Education_3  1.78\n",
       "11         Education_2  1.77\n",
       "3                CCAvg  1.74\n",
       "7           CreditCard  1.58\n",
       "5           CD Account  1.40\n",
       "4   Securities Account  1.27\n",
       "0           Experience  1.01"
      ]
     },
     "execution_count": 75,
     "metadata": {},
     "output_type": "execute_result"
    }
   ],
   "source": [
    "# Create a dataframe that will contain the names of all the feature variables and their respective VIFs\n",
    "col = X_train1.columns\n",
    "vif = pd.DataFrame()\n",
    "vif['Features'] = X_train1[col].columns\n",
    "vif['VIF'] = [variance_inflation_factor(X_train1[col].values, i) for i in range(X_train1[col].shape[1])]\n",
    "vif['VIF'] = round(vif['VIF'], 2)\n",
    "vif = vif.sort_values(by = \"VIF\", ascending = False)\n",
    "vif"
   ]
  },
  {
   "cell_type": "code",
   "execution_count": 76,
   "metadata": {},
   "outputs": [
    {
     "name": "stdout",
     "output_type": "stream",
     "text": [
      "Optimization terminated successfully.\n",
      "         Current function value: 0.239325\n",
      "         Iterations 8\n",
      "                          Results: Logit\n",
      "===================================================================\n",
      "Model:                Logit            Pseudo R-squared: 0.221     \n",
      "Dependent Variable:   Personal Loan    AIC:              1699.2744 \n",
      "Date:                 2020-09-05 22:02 BIC:              1773.2007 \n",
      "No. Observations:     3500             Log-Likelihood:   -837.64   \n",
      "Df Model:             11               LL-Null:          -1075.0   \n",
      "Df Residuals:         3488             LLR p-value:      7.8786e-95\n",
      "Converged:            1.0000           Scale:            1.0000    \n",
      "No. Iterations:       8.0000                                       \n",
      "-------------------------------------------------------------------\n",
      "                    Coef.  Std.Err.    z     P>|z|   [0.025  0.975]\n",
      "-------------------------------------------------------------------\n",
      "Experience          0.1087   0.0634   1.7159 0.0862 -0.0155  0.2329\n",
      "Income              1.2631   0.0811  15.5648 0.0000  1.1040  1.4221\n",
      "CCAvg               0.0180   0.0662   0.2724 0.7853 -0.1117  0.1477\n",
      "Securities Account -1.8050   0.2676  -6.7463 0.0000 -2.3294 -1.2806\n",
      "CD Account          4.7140   0.2995  15.7391 0.0000  4.1270  5.3010\n",
      "Online             -2.3628   0.1390 -16.9967 0.0000 -2.6353 -2.0903\n",
      "CreditCard         -2.2502   0.1942 -11.5873 0.0000 -2.6308 -1.8696\n",
      "Family_1           -2.3145   0.1669 -13.8639 0.0000 -2.6417 -1.9873\n",
      "Family_3           -1.2646   0.1656  -7.6360 0.0000 -1.5891 -0.9400\n",
      "Family_4           -1.1496   0.1623  -7.0833 0.0000 -1.4677 -0.8315\n",
      "Education_2         0.1585   0.1536   1.0318 0.3022 -0.1426  0.4597\n",
      "Education_3         0.2293   0.1385   1.6563 0.0977 -0.0421  0.5007\n",
      "===================================================================\n",
      "\n"
     ]
    },
    {
     "data": {
      "text/html": [
       "<div>\n",
       "<style scoped>\n",
       "    .dataframe tbody tr th:only-of-type {\n",
       "        vertical-align: middle;\n",
       "    }\n",
       "\n",
       "    .dataframe tbody tr th {\n",
       "        vertical-align: top;\n",
       "    }\n",
       "\n",
       "    .dataframe thead th {\n",
       "        text-align: right;\n",
       "    }\n",
       "</style>\n",
       "<table border=\"1\" class=\"dataframe\">\n",
       "  <thead>\n",
       "    <tr style=\"text-align: right;\">\n",
       "      <th></th>\n",
       "      <th>Features</th>\n",
       "      <th>VIF</th>\n",
       "    </tr>\n",
       "  </thead>\n",
       "  <tbody>\n",
       "    <tr>\n",
       "      <th>5</th>\n",
       "      <td>Online</td>\n",
       "      <td>2.04</td>\n",
       "    </tr>\n",
       "    <tr>\n",
       "      <th>1</th>\n",
       "      <td>Income</td>\n",
       "      <td>1.81</td>\n",
       "    </tr>\n",
       "    <tr>\n",
       "      <th>2</th>\n",
       "      <td>CCAvg</td>\n",
       "      <td>1.74</td>\n",
       "    </tr>\n",
       "    <tr>\n",
       "      <th>9</th>\n",
       "      <td>Family_4</td>\n",
       "      <td>1.59</td>\n",
       "    </tr>\n",
       "    <tr>\n",
       "      <th>10</th>\n",
       "      <td>Education_2</td>\n",
       "      <td>1.59</td>\n",
       "    </tr>\n",
       "    <tr>\n",
       "      <th>7</th>\n",
       "      <td>Family_1</td>\n",
       "      <td>1.54</td>\n",
       "    </tr>\n",
       "    <tr>\n",
       "      <th>11</th>\n",
       "      <td>Education_3</td>\n",
       "      <td>1.54</td>\n",
       "    </tr>\n",
       "    <tr>\n",
       "      <th>8</th>\n",
       "      <td>Family_3</td>\n",
       "      <td>1.46</td>\n",
       "    </tr>\n",
       "    <tr>\n",
       "      <th>6</th>\n",
       "      <td>CreditCard</td>\n",
       "      <td>1.43</td>\n",
       "    </tr>\n",
       "    <tr>\n",
       "      <th>4</th>\n",
       "      <td>CD Account</td>\n",
       "      <td>1.36</td>\n",
       "    </tr>\n",
       "    <tr>\n",
       "      <th>3</th>\n",
       "      <td>Securities Account</td>\n",
       "      <td>1.24</td>\n",
       "    </tr>\n",
       "    <tr>\n",
       "      <th>0</th>\n",
       "      <td>Experience</td>\n",
       "      <td>1.01</td>\n",
       "    </tr>\n",
       "  </tbody>\n",
       "</table>\n",
       "</div>"
      ],
      "text/plain": [
       "              Features   VIF\n",
       "5               Online  2.04\n",
       "1               Income  1.81\n",
       "2                CCAvg  1.74\n",
       "9             Family_4  1.59\n",
       "10         Education_2  1.59\n",
       "7             Family_1  1.54\n",
       "11         Education_3  1.54\n",
       "8             Family_3  1.46\n",
       "6           CreditCard  1.43\n",
       "4           CD Account  1.36\n",
       "3   Securities Account  1.24\n",
       "0           Experience  1.01"
      ]
     },
     "execution_count": 76,
     "metadata": {},
     "output_type": "execute_result"
    }
   ],
   "source": [
    "#dropping ZIP code as it has high VIF\n",
    "X_train1 = X_train.drop(['Family_2','Education_1','Age','Mortgage','ZIP Code'],axis=1)\n",
    "#                         'CCAvg',], axis=1)\n",
    "\n",
    "#ITERATION 5\n",
    "logit_model=sm.Logit(y_train,X_train1)\n",
    "result5=logit_model.fit()\n",
    "print(result5.summary2())\n",
    "\n",
    "# Create a dataframe that will contain the names of all the feature variables and their respective VIFs\n",
    "col = X_train1.columns\n",
    "vif = pd.DataFrame()\n",
    "vif['Features'] = X_train1[col].columns\n",
    "vif['VIF'] = [variance_inflation_factor(X_train1[col].values, i) for i in range(X_train1[col].shape[1])]\n",
    "vif['VIF'] = round(vif['VIF'], 2)\n",
    "vif = vif.sort_values(by = \"VIF\", ascending = False)\n",
    "vif"
   ]
  },
  {
   "cell_type": "code",
   "execution_count": 77,
   "metadata": {},
   "outputs": [
    {
     "name": "stdout",
     "output_type": "stream",
     "text": [
      "Optimization terminated successfully.\n",
      "         Current function value: 0.239336\n",
      "         Iterations 8\n",
      "                          Results: Logit\n",
      "===================================================================\n",
      "Model:                Logit            Pseudo R-squared: 0.221     \n",
      "Dependent Variable:   Personal Loan    AIC:              1697.3486 \n",
      "Date:                 2020-09-05 22:03 BIC:              1765.1143 \n",
      "No. Observations:     3500             Log-Likelihood:   -837.67   \n",
      "Df Model:             10               LL-Null:          -1075.0   \n",
      "Df Residuals:         3489             LLR p-value:      1.1543e-95\n",
      "Converged:            1.0000           Scale:            1.0000    \n",
      "No. Iterations:       8.0000                                       \n",
      "-------------------------------------------------------------------\n",
      "                    Coef.  Std.Err.    z     P>|z|   [0.025  0.975]\n",
      "-------------------------------------------------------------------\n",
      "Experience          0.1081   0.0633   1.7071 0.0878 -0.0160  0.2321\n",
      "Income              1.2754   0.0673  18.9400 0.0000  1.1434  1.4074\n",
      "Securities Account -1.8051   0.2675  -6.7482 0.0000 -2.3294 -1.2809\n",
      "CD Account          4.7160   0.2994  15.7490 0.0000  4.1291  5.3029\n",
      "Online             -2.3626   0.1390 -17.0008 0.0000 -2.6349 -2.0902\n",
      "CreditCard         -2.2509   0.1942 -11.5905 0.0000 -2.6315 -1.8703\n",
      "Family_1           -2.3151   0.1669 -13.8677 0.0000 -2.6423 -1.9879\n",
      "Family_3           -1.2663   0.1655  -7.6506 0.0000 -1.5907 -0.9419\n",
      "Family_4           -1.1509   0.1623  -7.0928 0.0000 -1.4689 -0.8329\n",
      "Education_2         0.1583   0.1537   1.0302 0.3029 -0.1429  0.4595\n",
      "Education_3         0.2300   0.1384   1.6615 0.0966 -0.0413  0.5014\n",
      "===================================================================\n",
      "\n"
     ]
    },
    {
     "data": {
      "text/html": [
       "<div>\n",
       "<style scoped>\n",
       "    .dataframe tbody tr th:only-of-type {\n",
       "        vertical-align: middle;\n",
       "    }\n",
       "\n",
       "    .dataframe tbody tr th {\n",
       "        vertical-align: top;\n",
       "    }\n",
       "\n",
       "    .dataframe thead th {\n",
       "        text-align: right;\n",
       "    }\n",
       "</style>\n",
       "<table border=\"1\" class=\"dataframe\">\n",
       "  <thead>\n",
       "    <tr style=\"text-align: right;\">\n",
       "      <th></th>\n",
       "      <th>Features</th>\n",
       "      <th>VIF</th>\n",
       "    </tr>\n",
       "  </thead>\n",
       "  <tbody>\n",
       "    <tr>\n",
       "      <th>4</th>\n",
       "      <td>Online</td>\n",
       "      <td>2.04</td>\n",
       "    </tr>\n",
       "    <tr>\n",
       "      <th>8</th>\n",
       "      <td>Family_4</td>\n",
       "      <td>1.59</td>\n",
       "    </tr>\n",
       "    <tr>\n",
       "      <th>9</th>\n",
       "      <td>Education_2</td>\n",
       "      <td>1.59</td>\n",
       "    </tr>\n",
       "    <tr>\n",
       "      <th>6</th>\n",
       "      <td>Family_1</td>\n",
       "      <td>1.54</td>\n",
       "    </tr>\n",
       "    <tr>\n",
       "      <th>10</th>\n",
       "      <td>Education_3</td>\n",
       "      <td>1.54</td>\n",
       "    </tr>\n",
       "    <tr>\n",
       "      <th>7</th>\n",
       "      <td>Family_3</td>\n",
       "      <td>1.46</td>\n",
       "    </tr>\n",
       "    <tr>\n",
       "      <th>5</th>\n",
       "      <td>CreditCard</td>\n",
       "      <td>1.43</td>\n",
       "    </tr>\n",
       "    <tr>\n",
       "      <th>3</th>\n",
       "      <td>CD Account</td>\n",
       "      <td>1.36</td>\n",
       "    </tr>\n",
       "    <tr>\n",
       "      <th>2</th>\n",
       "      <td>Securities Account</td>\n",
       "      <td>1.24</td>\n",
       "    </tr>\n",
       "    <tr>\n",
       "      <th>1</th>\n",
       "      <td>Income</td>\n",
       "      <td>1.09</td>\n",
       "    </tr>\n",
       "    <tr>\n",
       "      <th>0</th>\n",
       "      <td>Experience</td>\n",
       "      <td>1.01</td>\n",
       "    </tr>\n",
       "  </tbody>\n",
       "</table>\n",
       "</div>"
      ],
      "text/plain": [
       "              Features   VIF\n",
       "4               Online  2.04\n",
       "8             Family_4  1.59\n",
       "9          Education_2  1.59\n",
       "6             Family_1  1.54\n",
       "10         Education_3  1.54\n",
       "7             Family_3  1.46\n",
       "5           CreditCard  1.43\n",
       "3           CD Account  1.36\n",
       "2   Securities Account  1.24\n",
       "1               Income  1.09\n",
       "0           Experience  1.01"
      ]
     },
     "execution_count": 77,
     "metadata": {},
     "output_type": "execute_result"
    }
   ],
   "source": [
    "#dropping CCAvg as it has high value of p\n",
    "X_train1 = X_train.drop(['Family_2','Education_1','Age','Mortgage','ZIP Code','CCAvg'],axis=1)\n",
    "\n",
    "#ITERATION 6\n",
    "logit_model=sm.Logit(y_train,X_train1)\n",
    "result6=logit_model.fit()\n",
    "print(result6.summary2())\n",
    "\n",
    "# Create a dataframe that will contain the names of all the feature variables and their respective VIFs\n",
    "col = X_train1.columns\n",
    "vif = pd.DataFrame()\n",
    "vif['Features'] = X_train1[col].columns\n",
    "vif['VIF'] = [variance_inflation_factor(X_train1[col].values, i) for i in range(X_train1[col].shape[1])]\n",
    "vif['VIF'] = round(vif['VIF'], 2)\n",
    "vif = vif.sort_values(by = \"VIF\", ascending = False)\n",
    "vif"
   ]
  },
  {
   "cell_type": "code",
   "execution_count": 78,
   "metadata": {},
   "outputs": [
    {
     "name": "stdout",
     "output_type": "stream",
     "text": [
      "Optimization terminated successfully.\n",
      "         Current function value: 0.239486\n",
      "         Iterations 8\n",
      "                          Results: Logit\n",
      "===================================================================\n",
      "Model:                Logit            Pseudo R-squared: 0.220     \n",
      "Dependent Variable:   Personal Loan    AIC:              1696.4051 \n",
      "Date:                 2020-09-05 22:03 BIC:              1758.0103 \n",
      "No. Observations:     3500             Log-Likelihood:   -838.20   \n",
      "Df Model:             9                LL-Null:          -1075.0   \n",
      "Df Residuals:         3490             LLR p-value:      2.5961e-96\n",
      "Converged:            1.0000           Scale:            1.0000    \n",
      "No. Iterations:       8.0000                                       \n",
      "-------------------------------------------------------------------\n",
      "                    Coef.  Std.Err.    z     P>|z|   [0.025  0.975]\n",
      "-------------------------------------------------------------------\n",
      "Experience          0.1068   0.0633   1.6886 0.0913 -0.0172  0.2309\n",
      "Income              1.2680   0.0668  18.9827 0.0000  1.1371  1.3990\n",
      "Securities Account -1.7934   0.2665  -6.7293 0.0000 -2.3157 -1.2710\n",
      "CD Account          4.7083   0.2989  15.7512 0.0000  4.1225  5.2942\n",
      "Online             -2.3381   0.1366 -17.1166 0.0000 -2.6058 -2.0704\n",
      "CreditCard         -2.2329   0.1933 -11.5493 0.0000 -2.6118 -1.8539\n",
      "Family_1           -2.2789   0.1627 -14.0063 0.0000 -2.5978 -1.9600\n",
      "Family_3           -1.2050   0.1540  -7.8241 0.0000 -1.5068 -0.9031\n",
      "Family_4           -1.0891   0.1503  -7.2462 0.0000 -1.3837 -0.7945\n",
      "Education_3         0.1865   0.1315   1.4187 0.1560 -0.0712  0.4443\n",
      "===================================================================\n",
      "\n"
     ]
    },
    {
     "data": {
      "text/html": [
       "<div>\n",
       "<style scoped>\n",
       "    .dataframe tbody tr th:only-of-type {\n",
       "        vertical-align: middle;\n",
       "    }\n",
       "\n",
       "    .dataframe tbody tr th {\n",
       "        vertical-align: top;\n",
       "    }\n",
       "\n",
       "    .dataframe thead th {\n",
       "        text-align: right;\n",
       "    }\n",
       "</style>\n",
       "<table border=\"1\" class=\"dataframe\">\n",
       "  <thead>\n",
       "    <tr style=\"text-align: right;\">\n",
       "      <th></th>\n",
       "      <th>Features</th>\n",
       "      <th>VIF</th>\n",
       "    </tr>\n",
       "  </thead>\n",
       "  <tbody>\n",
       "    <tr>\n",
       "      <th>4</th>\n",
       "      <td>Online</td>\n",
       "      <td>1.97</td>\n",
       "    </tr>\n",
       "    <tr>\n",
       "      <th>6</th>\n",
       "      <td>Family_1</td>\n",
       "      <td>1.45</td>\n",
       "    </tr>\n",
       "    <tr>\n",
       "      <th>8</th>\n",
       "      <td>Family_4</td>\n",
       "      <td>1.44</td>\n",
       "    </tr>\n",
       "    <tr>\n",
       "      <th>5</th>\n",
       "      <td>CreditCard</td>\n",
       "      <td>1.42</td>\n",
       "    </tr>\n",
       "    <tr>\n",
       "      <th>3</th>\n",
       "      <td>CD Account</td>\n",
       "      <td>1.36</td>\n",
       "    </tr>\n",
       "    <tr>\n",
       "      <th>9</th>\n",
       "      <td>Education_3</td>\n",
       "      <td>1.34</td>\n",
       "    </tr>\n",
       "    <tr>\n",
       "      <th>7</th>\n",
       "      <td>Family_3</td>\n",
       "      <td>1.31</td>\n",
       "    </tr>\n",
       "    <tr>\n",
       "      <th>2</th>\n",
       "      <td>Securities Account</td>\n",
       "      <td>1.23</td>\n",
       "    </tr>\n",
       "    <tr>\n",
       "      <th>1</th>\n",
       "      <td>Income</td>\n",
       "      <td>1.07</td>\n",
       "    </tr>\n",
       "    <tr>\n",
       "      <th>0</th>\n",
       "      <td>Experience</td>\n",
       "      <td>1.01</td>\n",
       "    </tr>\n",
       "  </tbody>\n",
       "</table>\n",
       "</div>"
      ],
      "text/plain": [
       "             Features   VIF\n",
       "4              Online  1.97\n",
       "6            Family_1  1.45\n",
       "8            Family_4  1.44\n",
       "5          CreditCard  1.42\n",
       "3          CD Account  1.36\n",
       "9         Education_3  1.34\n",
       "7            Family_3  1.31\n",
       "2  Securities Account  1.23\n",
       "1              Income  1.07\n",
       "0          Experience  1.01"
      ]
     },
     "execution_count": 78,
     "metadata": {},
     "output_type": "execute_result"
    }
   ],
   "source": [
    "#dropping Education_2  as it has high value of p\n",
    "X_train1 = X_train.drop(['Family_2','Education_1','Age','Mortgage','ZIP Code','CCAvg','Education_2',\n",
    "                        ],\n",
    "                        axis=1)\n",
    "\n",
    "#ITERATION 7\n",
    "logit_model=sm.Logit(y_train,X_train1)\n",
    "result7=logit_model.fit()\n",
    "print(result7.summary2())\n",
    "\n",
    "# Create a dataframe that will contain the names of all the feature variables and their respective VIFs\n",
    "col = X_train1.columns\n",
    "vif = pd.DataFrame()\n",
    "vif['Features'] = X_train1[col].columns\n",
    "vif['VIF'] = [variance_inflation_factor(X_train1[col].values, i) for i in range(X_train1[col].shape[1])]\n",
    "vif['VIF'] = round(vif['VIF'], 2)\n",
    "vif = vif.sort_values(by = \"VIF\", ascending = False)\n",
    "vif"
   ]
  },
  {
   "cell_type": "code",
   "execution_count": 79,
   "metadata": {},
   "outputs": [
    {
     "name": "stdout",
     "output_type": "stream",
     "text": [
      "Optimization terminated successfully.\n",
      "         Current function value: 0.239772\n",
      "         Iterations 8\n",
      "                          Results: Logit\n",
      "===================================================================\n",
      "Model:                Logit            Pseudo R-squared: 0.219     \n",
      "Dependent Variable:   Personal Loan    AIC:              1696.4016 \n",
      "Date:                 2020-09-05 22:03 BIC:              1751.8463 \n",
      "No. Observations:     3500             Log-Likelihood:   -839.20   \n",
      "Df Model:             8                LL-Null:          -1075.0   \n",
      "Df Residuals:         3491             LLR p-value:      8.7449e-97\n",
      "Converged:            1.0000           Scale:            1.0000    \n",
      "No. Iterations:       8.0000                                       \n",
      "-------------------------------------------------------------------\n",
      "                    Coef.  Std.Err.    z     P>|z|   [0.025  0.975]\n",
      "-------------------------------------------------------------------\n",
      "Experience          0.1068   0.0633   1.6879 0.0914 -0.0172  0.2308\n",
      "Income              1.2587   0.0663  18.9909 0.0000  1.1288  1.3886\n",
      "Securities Account -1.7736   0.2656  -6.6785 0.0000 -2.2941 -1.2531\n",
      "CD Account          4.6843   0.2972  15.7629 0.0000  4.1018  5.2667\n",
      "Online             -2.3074   0.1344 -17.1623 0.0000 -2.5709 -2.0439\n",
      "CreditCard         -2.2058   0.1918 -11.5000 0.0000 -2.5817 -1.8298\n",
      "Family_1           -2.2320   0.1589 -14.0483 0.0000 -2.5434 -1.9206\n",
      "Family_3           -1.1595   0.1501  -7.7268 0.0000 -1.4536 -0.8654\n",
      "Family_4           -1.0322   0.1444  -7.1494 0.0000 -1.3152 -0.7492\n",
      "===================================================================\n",
      "\n"
     ]
    },
    {
     "data": {
      "text/html": [
       "<div>\n",
       "<style scoped>\n",
       "    .dataframe tbody tr th:only-of-type {\n",
       "        vertical-align: middle;\n",
       "    }\n",
       "\n",
       "    .dataframe tbody tr th {\n",
       "        vertical-align: top;\n",
       "    }\n",
       "\n",
       "    .dataframe thead th {\n",
       "        text-align: right;\n",
       "    }\n",
       "</style>\n",
       "<table border=\"1\" class=\"dataframe\">\n",
       "  <thead>\n",
       "    <tr style=\"text-align: right;\">\n",
       "      <th></th>\n",
       "      <th>Features</th>\n",
       "      <th>VIF</th>\n",
       "    </tr>\n",
       "  </thead>\n",
       "  <tbody>\n",
       "    <tr>\n",
       "      <th>4</th>\n",
       "      <td>Online</td>\n",
       "      <td>1.94</td>\n",
       "    </tr>\n",
       "    <tr>\n",
       "      <th>5</th>\n",
       "      <td>CreditCard</td>\n",
       "      <td>1.42</td>\n",
       "    </tr>\n",
       "    <tr>\n",
       "      <th>8</th>\n",
       "      <td>Family_4</td>\n",
       "      <td>1.39</td>\n",
       "    </tr>\n",
       "    <tr>\n",
       "      <th>6</th>\n",
       "      <td>Family_1</td>\n",
       "      <td>1.38</td>\n",
       "    </tr>\n",
       "    <tr>\n",
       "      <th>3</th>\n",
       "      <td>CD Account</td>\n",
       "      <td>1.36</td>\n",
       "    </tr>\n",
       "    <tr>\n",
       "      <th>7</th>\n",
       "      <td>Family_3</td>\n",
       "      <td>1.28</td>\n",
       "    </tr>\n",
       "    <tr>\n",
       "      <th>2</th>\n",
       "      <td>Securities Account</td>\n",
       "      <td>1.23</td>\n",
       "    </tr>\n",
       "    <tr>\n",
       "      <th>1</th>\n",
       "      <td>Income</td>\n",
       "      <td>1.07</td>\n",
       "    </tr>\n",
       "    <tr>\n",
       "      <th>0</th>\n",
       "      <td>Experience</td>\n",
       "      <td>1.01</td>\n",
       "    </tr>\n",
       "  </tbody>\n",
       "</table>\n",
       "</div>"
      ],
      "text/plain": [
       "             Features   VIF\n",
       "4              Online  1.94\n",
       "5          CreditCard  1.42\n",
       "8            Family_4  1.39\n",
       "6            Family_1  1.38\n",
       "3          CD Account  1.36\n",
       "7            Family_3  1.28\n",
       "2  Securities Account  1.23\n",
       "1              Income  1.07\n",
       "0          Experience  1.01"
      ]
     },
     "execution_count": 79,
     "metadata": {},
     "output_type": "execute_result"
    }
   ],
   "source": [
    "#dropping Education_3  as it has high value of p\n",
    "X_train1 = X_train.drop(['Family_2','Education_1','Age','Mortgage','ZIP Code','CCAvg','Education_2',\n",
    "                        'Education_3'],axis=1)\n",
    "\n",
    "#ITERATION 8\n",
    "logit_model=sm.Logit(y_train,X_train1)\n",
    "result8=logit_model.fit()\n",
    "print(result8.summary2())\n",
    "\n",
    "# Create a dataframe that will contain the names of all the feature variables and their respective VIFs\n",
    "col = X_train1.columns\n",
    "vif = pd.DataFrame()\n",
    "vif['Features'] = X_train1[col].columns\n",
    "vif['VIF'] = [variance_inflation_factor(X_train1[col].values, i) for i in range(X_train1[col].shape[1])]\n",
    "vif['VIF'] = round(vif['VIF'], 2)\n",
    "vif = vif.sort_values(by = \"VIF\", ascending = False)\n",
    "vif"
   ]
  },
  {
   "cell_type": "code",
   "execution_count": 80,
   "metadata": {},
   "outputs": [
    {
     "name": "stdout",
     "output_type": "stream",
     "text": [
      "Optimization terminated successfully.\n",
      "         Current function value: 0.240180\n",
      "         Iterations 8\n",
      "                          Results: Logit\n",
      "===================================================================\n",
      "Model:                Logit            Pseudo R-squared: 0.218     \n",
      "Dependent Variable:   Personal Loan    AIC:              1697.2579 \n",
      "Date:                 2020-09-05 22:04 BIC:              1746.5421 \n",
      "No. Observations:     3500             Log-Likelihood:   -840.63   \n",
      "Df Model:             7                LL-Null:          -1075.0   \n",
      "Df Residuals:         3492             LLR p-value:      4.2152e-97\n",
      "Converged:            1.0000           Scale:            1.0000    \n",
      "No. Iterations:       8.0000                                       \n",
      "-------------------------------------------------------------------\n",
      "                    Coef.  Std.Err.    z     P>|z|   [0.025  0.975]\n",
      "-------------------------------------------------------------------\n",
      "Income              1.2499   0.0659  18.9748 0.0000  1.1208  1.3790\n",
      "Securities Account -1.7785   0.2647  -6.7178 0.0000 -2.2974 -1.2596\n",
      "CD Account          4.6878   0.2965  15.8121 0.0000  4.1067  5.2688\n",
      "Online             -2.3043   0.1345 -17.1353 0.0000 -2.5679 -2.0407\n",
      "CreditCard         -2.2050   0.1915 -11.5115 0.0000 -2.5804 -1.8296\n",
      "Family_1           -2.2187   0.1585 -14.0010 0.0000 -2.5293 -1.9081\n",
      "Family_3           -1.1589   0.1500  -7.7265 0.0000 -1.4529 -0.8650\n",
      "Family_4           -1.0414   0.1439  -7.2357 0.0000 -1.3235 -0.7593\n",
      "===================================================================\n",
      "\n"
     ]
    },
    {
     "data": {
      "text/html": [
       "<div>\n",
       "<style scoped>\n",
       "    .dataframe tbody tr th:only-of-type {\n",
       "        vertical-align: middle;\n",
       "    }\n",
       "\n",
       "    .dataframe tbody tr th {\n",
       "        vertical-align: top;\n",
       "    }\n",
       "\n",
       "    .dataframe thead th {\n",
       "        text-align: right;\n",
       "    }\n",
       "</style>\n",
       "<table border=\"1\" class=\"dataframe\">\n",
       "  <thead>\n",
       "    <tr style=\"text-align: right;\">\n",
       "      <th></th>\n",
       "      <th>Features</th>\n",
       "      <th>VIF</th>\n",
       "    </tr>\n",
       "  </thead>\n",
       "  <tbody>\n",
       "    <tr>\n",
       "      <th>3</th>\n",
       "      <td>Online</td>\n",
       "      <td>1.94</td>\n",
       "    </tr>\n",
       "    <tr>\n",
       "      <th>4</th>\n",
       "      <td>CreditCard</td>\n",
       "      <td>1.42</td>\n",
       "    </tr>\n",
       "    <tr>\n",
       "      <th>7</th>\n",
       "      <td>Family_4</td>\n",
       "      <td>1.39</td>\n",
       "    </tr>\n",
       "    <tr>\n",
       "      <th>5</th>\n",
       "      <td>Family_1</td>\n",
       "      <td>1.38</td>\n",
       "    </tr>\n",
       "    <tr>\n",
       "      <th>2</th>\n",
       "      <td>CD Account</td>\n",
       "      <td>1.36</td>\n",
       "    </tr>\n",
       "    <tr>\n",
       "      <th>6</th>\n",
       "      <td>Family_3</td>\n",
       "      <td>1.28</td>\n",
       "    </tr>\n",
       "    <tr>\n",
       "      <th>1</th>\n",
       "      <td>Securities Account</td>\n",
       "      <td>1.23</td>\n",
       "    </tr>\n",
       "    <tr>\n",
       "      <th>0</th>\n",
       "      <td>Income</td>\n",
       "      <td>1.06</td>\n",
       "    </tr>\n",
       "  </tbody>\n",
       "</table>\n",
       "</div>"
      ],
      "text/plain": [
       "             Features   VIF\n",
       "3              Online  1.94\n",
       "4          CreditCard  1.42\n",
       "7            Family_4  1.39\n",
       "5            Family_1  1.38\n",
       "2          CD Account  1.36\n",
       "6            Family_3  1.28\n",
       "1  Securities Account  1.23\n",
       "0              Income  1.06"
      ]
     },
     "execution_count": 80,
     "metadata": {},
     "output_type": "execute_result"
    }
   ],
   "source": [
    "#dropping Experience as it has high value of p\n",
    "X_train1 = X_train.drop(['Family_2','Education_1','Age','Mortgage','ZIP Code','CCAvg','Education_2',\n",
    "                        'Education_3','Experience'],\n",
    "                        axis=1)\n",
    "\n",
    "#ITERATION 9\n",
    "logit_model=sm.Logit(y_train,X_train1)\n",
    "result9=logit_model.fit()\n",
    "print(result9.summary2())\n",
    "\n",
    "# Create a dataframe that will contain the names of all the feature variables and their respective VIFs\n",
    "col = X_train1.columns\n",
    "vif = pd.DataFrame()\n",
    "vif['Features'] = X_train1[col].columns\n",
    "vif['VIF'] = [variance_inflation_factor(X_train1[col].values, i) for i in range(X_train1[col].shape[1])]\n",
    "vif['VIF'] = round(vif['VIF'], 2)\n",
    "vif = vif.sort_values(by = \"VIF\", ascending = False)\n",
    "vif"
   ]
  },
  {
   "cell_type": "code",
   "execution_count": 81,
   "metadata": {},
   "outputs": [],
   "source": [
    "##Now all the features are significant and VIF is also fine. Selecting these variables to predict the result"
   ]
  },
  {
   "cell_type": "markdown",
   "metadata": {},
   "source": [
    "# Logistic Regression Model Fitting¶"
   ]
  },
  {
   "cell_type": "code",
   "execution_count": 82,
   "metadata": {},
   "outputs": [
    {
     "data": {
      "text/plain": [
       "LogisticRegression(C=1.0, class_weight=None, dual=False, fit_intercept=True,\n",
       "                   intercept_scaling=1, l1_ratio=None, max_iter=100,\n",
       "                   multi_class='auto', n_jobs=None, penalty='l2',\n",
       "                   random_state=None, solver='lbfgs', tol=0.0001, verbose=0,\n",
       "                   warm_start=False)"
      ]
     },
     "execution_count": 82,
     "metadata": {},
     "output_type": "execute_result"
    }
   ],
   "source": [
    "from sklearn.linear_model import LogisticRegression\n",
    "from sklearn import metrics\n",
    "\n",
    "logreg = LogisticRegression()\n",
    "logreg.fit(X_train1, y_train)"
   ]
  },
  {
   "cell_type": "code",
   "execution_count": 83,
   "metadata": {},
   "outputs": [
    {
     "data": {
      "text/plain": [
       "Index(['Income', 'Securities Account', 'CD Account', 'Online', 'CreditCard',\n",
       "       'Family_1', 'Family_3', 'Family_4'],\n",
       "      dtype='object')"
      ]
     },
     "execution_count": 83,
     "metadata": {},
     "output_type": "execute_result"
    }
   ],
   "source": [
    "#Fitting the model on test data\n",
    "X_test1 = X_test.drop(['Family_2','Education_1','Age','Mortgage','ZIP Code','CCAvg','Education_2',\n",
    "                        'Education_3','Experience'],\n",
    "                        axis=1)\n",
    "X_test1.columns"
   ]
  },
  {
   "cell_type": "code",
   "execution_count": 84,
   "metadata": {},
   "outputs": [
    {
     "name": "stdout",
     "output_type": "stream",
     "text": [
      "Accuracy of logistic regression classifier on test set: 0.93\n"
     ]
    }
   ],
   "source": [
    "y_pred = logreg.predict(X_test1)\n",
    "print('Accuracy of logistic regression classifier on test set: {:.2f}'.format(logreg.score(X_test1, y_test)))"
   ]
  },
  {
   "cell_type": "markdown",
   "metadata": {},
   "source": [
    "## Confusion Matrix:"
   ]
  },
  {
   "cell_type": "code",
   "execution_count": 85,
   "metadata": {},
   "outputs": [
    {
     "name": "stdout",
     "output_type": "stream",
     "text": [
      "[[1317   25]\n",
      " [  81   77]]\n"
     ]
    }
   ],
   "source": [
    "from sklearn.metrics import confusion_matrix\n",
    "confusion_matrix = confusion_matrix(y_test, y_pred)\n",
    "print(confusion_matrix)"
   ]
  },
  {
   "cell_type": "code",
   "execution_count": 86,
   "metadata": {},
   "outputs": [],
   "source": [
    "#true positives (TP): These are cases in which we predicted yes, and actually took loan.\n",
    "TP=77\n",
    "#true negatives (TN): We predicted no, and they actually did not took loan.\n",
    "TN=1317\n",
    "#false positives (FP): We predicted yes, but they don't actually took loan.(Also known as a \"Type I error.\")\n",
    "FP=25\n",
    "#false negatives (FN): We predicted no, but they actually took loan.(Also known as a \"Type II error.\")\n",
    "FN=81"
   ]
  },
  {
   "cell_type": "code",
   "execution_count": 87,
   "metadata": {},
   "outputs": [
    {
     "name": "stdout",
     "output_type": "stream",
     "text": [
      "Accuracy of logistic regression classifier on test set: 92.93%\n",
      "Misclassification Rate: It is often wrong: 7.07%\n",
      "Sensitivity: When its actually yes how often it predicts yes: 48.73%\n",
      "Specificity: When its actually no, how often does it predict no: 98.14%\n",
      "Precision: When it predicts yes, how often is it correct: 75.49%\n"
     ]
    },
    {
     "data": {
      "image/png": "[encoded data removed]",
      "text/plain": [
       "<Figure size 432x288 with 1 Axes>"
      ]
     },
     "metadata": {
      "needs_background": "light"
     },
     "output_type": "display_data"
    }
   ],
   "source": [
    "Accuracy=(TP+TN)/(TP+TN+FP+FN)\n",
    "print('Accuracy of logistic regression classifier on test set: {:.2%}'.format(Accuracy))\n",
    "\n",
    "Misclassification_Rate=(FP+FN)/(TP+TN+FP+FN)\n",
    "print('Misclassification Rate: It is often wrong: {:.2%}'.format(Misclassification_Rate))\n",
    "\n",
    "#Recall\n",
    "Sensitivity=TP/(FN+TP)\n",
    "print('Sensitivity: When its actually yes how often it predicts yes: {:.2%}'.format(Sensitivity))\n",
    "\n",
    "Specificity=TN/(TN+FP)\n",
    "print('Specificity: When its actually no, how often does it predict no: {:.2%}'.format(Specificity))\n",
    "\n",
    "Precision=TP/(FP+TP)\n",
    "print('Precision: When it predicts yes, how often is it correct: {:.2%}'.format(Precision))\n",
    "\n",
    "#ROC Curve\n",
    "from sklearn.metrics import roc_auc_score\n",
    "from sklearn.metrics import roc_curve\n",
    "logit_roc_auc = roc_auc_score(y_test, logreg.predict(X_test1))\n",
    "fpr, tpr, thresholds = roc_curve(y_test, logreg.predict_proba(X_test1)[:,1])\n",
    "plt.figure()\n",
    "plt.plot(fpr, tpr, label='Logistic Regression (area = %0.2f)' % logit_roc_auc)\n",
    "plt.plot([0, 1], [0, 1],'r--')\n",
    "plt.xlim([0.0, 1.0])\n",
    "plt.ylim([0.0, 1.05])\n",
    "plt.xlabel('False Positive Rate')\n",
    "plt.ylabel('True Positive Rate')\n",
    "plt.title('Receiver operating characteristic')\n",
    "plt.legend(loc=\"lower right\")\n",
    "plt.savefig('Log_ROC')\n",
    "plt.show()"
   ]
  },
  {
   "cell_type": "code",
   "execution_count": 89,
   "metadata": {},
   "outputs": [],
   "source": [
    "#Accuracy of logistic regression classifier on test set: 92.93%\n",
    "#Misclassification Rate: It is often wrong: 7.07%\n",
    "#Sensitivity: When its actually yes how often it predicts yes: 48.73%\n",
    "#Specificity: When its actually no, how often does it predict no: 98.14%\n",
    "#Precision: When it predicts yes, how often is it correct: 75.49%"
   ]
  },
  {
   "cell_type": "code",
   "execution_count": 90,
   "metadata": {},
   "outputs": [],
   "source": [
    "#Sensitivity value is too low, this may be due to data we have. Which contains only 480 records which are \n",
    "#yes it seems model needs more data to train itself.\n",
    "\n",
    "#Specificity seems fine\n",
    "\n",
    "#Trying new model K nearest neighbour to check if we could improve the results.\n",
    "\n",
    "#More the area under ROC better the model performs, its 0.73 in this case. Model is ok be lets see if this could be \n",
    "#improved further specially Sesitivity"
   ]
  },
  {
   "cell_type": "code",
   "execution_count": 91,
   "metadata": {},
   "outputs": [
    {
     "name": "stdout",
     "output_type": "stream",
     "text": [
      "              precision    recall  f1-score   support\n",
      "\n",
      "           0       0.94      0.98      0.96      1342\n",
      "           1       0.75      0.49      0.59       158\n",
      "\n",
      "    accuracy                           0.93      1500\n",
      "   macro avg       0.85      0.73      0.78      1500\n",
      "weighted avg       0.92      0.93      0.92      1500\n",
      "\n"
     ]
    }
   ],
   "source": [
    "from sklearn.metrics import classification_report\n",
    "print(classification_report(y_test, y_pred))"
   ]
  },
  {
   "cell_type": "code",
   "execution_count": 92,
   "metadata": {},
   "outputs": [
    {
     "data": {
      "text/html": [
       "<div>\n",
       "<style scoped>\n",
       "    .dataframe tbody tr th:only-of-type {\n",
       "        vertical-align: middle;\n",
       "    }\n",
       "\n",
       "    .dataframe tbody tr th {\n",
       "        vertical-align: top;\n",
       "    }\n",
       "\n",
       "    .dataframe thead th {\n",
       "        text-align: right;\n",
       "    }\n",
       "</style>\n",
       "<table border=\"1\" class=\"dataframe\">\n",
       "  <thead>\n",
       "    <tr style=\"text-align: right;\">\n",
       "      <th></th>\n",
       "      <th>0</th>\n",
       "    </tr>\n",
       "  </thead>\n",
       "  <tbody>\n",
       "    <tr>\n",
       "      <th>0</th>\n",
       "      <td>0</td>\n",
       "    </tr>\n",
       "    <tr>\n",
       "      <th>1</th>\n",
       "      <td>0</td>\n",
       "    </tr>\n",
       "    <tr>\n",
       "      <th>2</th>\n",
       "      <td>0</td>\n",
       "    </tr>\n",
       "    <tr>\n",
       "      <th>3</th>\n",
       "      <td>0</td>\n",
       "    </tr>\n",
       "    <tr>\n",
       "      <th>4</th>\n",
       "      <td>0</td>\n",
       "    </tr>\n",
       "  </tbody>\n",
       "</table>\n",
       "</div>"
      ],
      "text/plain": [
       "   0\n",
       "0  0\n",
       "1  0\n",
       "2  0\n",
       "3  0\n",
       "4  0"
      ]
     },
     "execution_count": 92,
     "metadata": {},
     "output_type": "execute_result"
    }
   ],
   "source": [
    "y_pred_1 = pd.DataFrame(y_pred)\n",
    "y_pred_1.head()"
   ]
  },
  {
   "cell_type": "markdown",
   "metadata": {},
   "source": [
    "# Applying KNN for classification¶"
   ]
  },
  {
   "cell_type": "code",
   "execution_count": 93,
   "metadata": {},
   "outputs": [],
   "source": [
    "from sklearn.neighbors import KNeighborsClassifier"
   ]
  },
  {
   "cell_type": "code",
   "execution_count": 94,
   "metadata": {},
   "outputs": [],
   "source": [
    "#Using X_train dataframe as it was final data after cleaning, apply scaling and splitting"
   ]
  },
  {
   "cell_type": "code",
   "execution_count": 95,
   "metadata": {},
   "outputs": [
    {
     "data": {
      "text/plain": [
       "KNeighborsClassifier(algorithm='auto', leaf_size=30, metric='minkowski',\n",
       "                     metric_params=None, n_jobs=None, n_neighbors=5, p=2,\n",
       "                     weights='uniform')"
      ]
     },
     "execution_count": 95,
     "metadata": {},
     "output_type": "execute_result"
    }
   ],
   "source": [
    "# Call Nearest Neighbour algorithm, keeping number of neighbours as 5\n",
    "NNH = KNeighborsClassifier(n_neighbors= 5 , weights = 'uniform' )\n",
    "NNH.fit(X_train, y_train)"
   ]
  },
  {
   "cell_type": "code",
   "execution_count": 97,
   "metadata": {},
   "outputs": [],
   "source": [
    "# For every test data point, predict it's label based on 5 nearest neighbours in this model. The majority class will \n",
    "# be assigned to the test data point\n",
    "predicted_labels_KNN = NNH.predict(X_test)"
   ]
  },
  {
   "cell_type": "code",
   "execution_count": 98,
   "metadata": {},
   "outputs": [
    {
     "data": {
      "text/plain": [
       "0.894"
      ]
     },
     "execution_count": 98,
     "metadata": {},
     "output_type": "execute_result"
    }
   ],
   "source": [
    "NNH.score(X_test, y_test)"
   ]
  },
  {
   "cell_type": "code",
   "execution_count": 99,
   "metadata": {},
   "outputs": [
    {
     "name": "stdout",
     "output_type": "stream",
     "text": [
      "[[1328   14]\n",
      " [ 145   13]]\n"
     ]
    }
   ],
   "source": [
    "print(metrics.confusion_matrix(y_test, predicted_labels_KNN))"
   ]
  },
  {
   "cell_type": "code",
   "execution_count": 100,
   "metadata": {},
   "outputs": [
    {
     "name": "stdout",
     "output_type": "stream",
     "text": [
      "[[1324   18]\n",
      " [  68   90]]\n"
     ]
    }
   ],
   "source": [
    "#Iteration 1:Using same features as derived in above Logistic model, we perofrmance getting improved\n",
    "X_KNN_train1 = X_train.drop(['Age'],axis=1)\n",
    "#                         'ZIP Code','CCAvg','Family_2','Education_1','Age','Mortgage'], axis=1)\n",
    "\n",
    "# Call Nearest Neighbour algorithm, keeping number of neighbours as 5\n",
    "NNH1 = KNeighborsClassifier(n_neighbors= 5 , weights = 'uniform' )\n",
    "NNH1.fit(X_train1, y_train)\n",
    "\n",
    "X_KNN_test1 = X_test.drop(['Age'],axis=1)\n",
    "predicted_labels_KNN = NNH1.predict(X_test1)\n",
    "\n",
    "NNH1.score(X_test1, y_test)\n",
    "\n",
    "print(metrics.confusion_matrix(y_test, predicted_labels_KNN))"
   ]
  },
  {
   "cell_type": "code",
   "execution_count": 101,
   "metadata": {},
   "outputs": [
    {
     "name": "stdout",
     "output_type": "stream",
     "text": [
      "Accuracy of logistic regression classifier on test set: 94.27%\n",
      "Misclassification Rate: It is often wrong: 5.73%\n",
      "Sensitivity: When its actually yes how often it predicts yes: 56.96%\n",
      "Specificity: When its actually no, how often does it predict no: 98.66%\n",
      "Precision: When it predicts yes, how often is it correct: 83.33%\n"
     ]
    },
    {
     "data": {
      "image/png": "[encoded data removed]",
      "text/plain": [
       "<Figure size 432x288 with 1 Axes>"
      ]
     },
     "metadata": {
      "needs_background": "light"
     },
     "output_type": "display_data"
    }
   ],
   "source": [
    "#CALCULATING METRICES FOR CHECING MODEL\n",
    "#true positives (TP): These are cases in which we predicted yes, and actually took loan.\n",
    "TP=90\n",
    "#true negatives (TN): We predicted no, and they actually did not took loan.\n",
    "TN=1324\n",
    "#false positives (FP): We predicted yes, but they don't actually took loan.(Also known as a \"Type I error.\")\n",
    "FP=18\n",
    "#false negatives (FN): We predicted no, but they actually took loan.(Also known as a \"Type II error.\")\n",
    "FN=68\n",
    "\n",
    "Accuracy=(TP+TN)/(TP+TN+FP+FN)\n",
    "print('Accuracy of logistic regression classifier on test set: {:.2%}'.format(Accuracy))\n",
    "Misclassification_Rate=(FP+FN)/(TP+TN+FP+FN)\n",
    "print('Misclassification Rate: It is often wrong: {:.2%}'.format(Misclassification_Rate))\n",
    "\n",
    "#Recall\n",
    "Sensitivity=TP/(FN+TP)\n",
    "print('Sensitivity: When its actually yes how often it predicts yes: {:.2%}'.format(Sensitivity))\n",
    "\n",
    "Specificity=TN/(TN+FP)\n",
    "print('Specificity: When its actually no, how often does it predict no: {:.2%}'.format(Specificity))\n",
    "\n",
    "Precision=TP/(FP+TP)\n",
    "print('Precision: When it predicts yes, how often is it correct: {:.2%}'.format(Precision))\n",
    "\n",
    "#ROC Curve\n",
    "KNN_roc_auc = roc_auc_score(y_test, NNH1.predict(X_test1))\n",
    "fpr, tpr, thresholds = roc_curve(y_test, NNH1.predict_proba(X_test1)[:,1])\n",
    "plt.figure()\n",
    "plt.plot(fpr, tpr, label='KNN (area = %0.2f)' % KNN_roc_auc)\n",
    "plt.plot([0, 1], [0, 1],'r--')\n",
    "plt.xlim([0.0, 1.0])\n",
    "plt.ylim([0.0, 1.05])\n",
    "plt.xlabel('False Positive Rate')\n",
    "plt.ylabel('True Positive Rate')\n",
    "plt.title('Receiver operating characteristic')\n",
    "plt.legend(loc=\"lower right\")\n",
    "#plt.savefig('Log_ROC')\n",
    "plt.show()"
   ]
  },
  {
   "cell_type": "code",
   "execution_count": 102,
   "metadata": {},
   "outputs": [],
   "source": [
    "#Accuracy of logistic regression classifier on test set: 94.27%\n",
    "#Misclassification Rate: It is often wrong: 5.73%\n",
    "#Sensitivity: When its actually yes how often it predicts yes: 56.96%\n",
    "#Specificity: When its actually no, how often does it predict no: 98.66%\n",
    "#Precision: When it predicts yes, how often is it correct: 83.33%"
   ]
  },
  {
   "cell_type": "code",
   "execution_count": 103,
   "metadata": {},
   "outputs": [
    {
     "name": "stdout",
     "output_type": "stream",
     "text": [
      "[[1330   12]\n",
      " [  66   92]]\n"
     ]
    }
   ],
   "source": [
    "#Iteration 2:Using same features as derived in above Logistic model, however taking neighbours as 9\n",
    "\n",
    "# Call Nearest Neighbour algorithm, keeping number of neighbours as 5\n",
    "NNH2 = KNeighborsClassifier(n_neighbors= 9, weights = 'uniform' )\n",
    "NNH2.fit(X_train1, y_train)\n",
    "\n",
    "predicted_labels_KNN = NNH2.predict(X_test1)\n",
    "\n",
    "NNH2.score(X_test1, y_test)\n",
    "\n",
    "print(metrics.confusion_matrix(y_test, predicted_labels_KNN))"
   ]
  },
  {
   "cell_type": "code",
   "execution_count": 105,
   "metadata": {},
   "outputs": [
    {
     "name": "stdout",
     "output_type": "stream",
     "text": [
      "Accuracy of logistic regression classifier on test set: 94.80%\n",
      "Misclassification Rate: It is often wrong: 5.20%\n",
      "Sensitivity: When its actually yes how often it predicts yes: 58.23%\n",
      "Specificity: When its actually no, how often does it predict no: 99.11%\n",
      "Precision: When it predicts yes, how often is it correct: 88.46%\n"
     ]
    },
    {
     "data": {
      "image/png": "[encoded data removed]",
      "text/plain": [
       "<Figure size 432x288 with 1 Axes>"
      ]
     },
     "metadata": {
      "needs_background": "light"
     },
     "output_type": "display_data"
    }
   ],
   "source": [
    "#CALCULATING METRICES FOR CHECING MODEL\n",
    "#true positives (TP): These are cases in which we predicted yes, and actually took loan.\n",
    "TP=92\n",
    "#true negatives (TN): We predicted no, and they actually did not took loan.\n",
    "TN=1330\n",
    "#false positives (FP): We predicted yes, but they don't actually took loan.(Also known as a \"Type I error.\")\n",
    "FP=12\n",
    "#false negatives (FN): We predicted no, but they actually took loan.(Also known as a \"Type II error.\")\n",
    "FN=66\n",
    "\n",
    "\n",
    "Accuracy=(TP+TN)/(TP+TN+FP+FN)\n",
    "print('Accuracy of logistic regression classifier on test set: {:.2%}'.format(Accuracy))\n",
    "\n",
    "Misclassification_Rate=(FP+FN)/(TP+TN+FP+FN)\n",
    "print('Misclassification Rate: It is often wrong: {:.2%}'.format(Misclassification_Rate))\n",
    "\n",
    "#Recall\n",
    "Sensitivity=TP/(FN+TP)\n",
    "print('Sensitivity: When its actually yes how often it predicts yes: {:.2%}'.format(Sensitivity))\n",
    "\n",
    "Specificity=TN/(TN+FP)\n",
    "print('Specificity: When its actually no, how often does it predict no: {:.2%}'.format(Specificity))\n",
    "\n",
    "Precision=TP/(FP+TP)\n",
    "print('Precision: When it predicts yes, how often is it correct: {:.2%}'.format(Precision))\n",
    "\n",
    "#ROC Curve\n",
    "KNN_roc_auc = roc_auc_score(y_test, NNH2.predict(X_test1))\n",
    "fpr, tpr, thresholds = roc_curve(y_test, NNH2.predict_proba(X_test1)[:,1])\n",
    "plt.figure()\n",
    "plt.plot(fpr, tpr, label='KNN (area = %0.2f)' % KNN_roc_auc)\n",
    "plt.plot([0, 1], [0, 1],'r--')\n",
    "plt.xlim([0.0, 1.0])\n",
    "plt.ylim([0.0, 1.05])\n",
    "plt.xlabel('False Positive Rate')\n",
    "plt.ylabel('True Positive Rate')\n",
    "plt.title('Receiver operating characteristic')\n",
    "plt.legend(loc=\"lower right\")\n",
    "#plt.savefig('Log_ROC')\n",
    "plt.show()\n",
    "#Accuracy of logistic regression classifier on test set: 94.80%\n",
    "#Misclassification Rate: It is often wrong: 5.20%\n",
    "#Sensitivity: When its actually yes how often it predicts yes: 58.23%\n",
    "#Specificity: When its actually no, how often does it predict no: 99.11%\n",
    "#Precision: When it predicts yes, how often is it correct: 88.46%"
   ]
  },
  {
   "cell_type": "code",
   "execution_count": 106,
   "metadata": {},
   "outputs": [],
   "source": [
    "#Model has improved with KNN and n_neighbours as 9, also ROC and AUC have improved"
   ]
  },
  {
   "cell_type": "markdown",
   "metadata": {},
   "source": [
    "# Applying Gaussian Naive Bayes¶"
   ]
  },
  {
   "cell_type": "code",
   "execution_count": 107,
   "metadata": {},
   "outputs": [],
   "source": [
    "from sklearn.naive_bayes import GaussianNB"
   ]
  },
  {
   "cell_type": "code",
   "execution_count": 108,
   "metadata": {},
   "outputs": [
    {
     "name": "stdout",
     "output_type": "stream",
     "text": [
      "[[1253   89]\n",
      " [  56  102]]\n",
      "Accuracy of logistic regression classifier on test set: 90.33%\n",
      "Misclassification Rate: It is often wrong: 9.67%\n",
      "Sensitivity: When its actually yes how often it predicts yes: 64.56%\n",
      "Specificity: When its actually no, how often does it predict no: 93.37%\n",
      "Precision: When it predicts yes, how often is it correct: 53.40%\n"
     ]
    },
    {
     "data": {
      "image/png": "[encoded data removed]",
      "text/plain": [
       "<Figure size 432x288 with 1 Axes>"
      ]
     },
     "metadata": {
      "needs_background": "light"
     },
     "output_type": "display_data"
    }
   ],
   "source": [
    "#Iteration 1 - Fitting all variables, cleaned and normalized data\n",
    "GNB1 = GaussianNB()\n",
    "GNB1.fit(X_train, y_train)\n",
    "predicted_labels_GNB = GNB1.predict(X_test)\n",
    "\n",
    "GNB1.score(X_test, y_test)\n",
    "print(metrics.confusion_matrix(y_test, predicted_labels_GNB))\n",
    "\n",
    "#CALCULATING METRICES FOR CHECING MODEL\n",
    "#true positives (TP): These are cases in which we predicted yes, and actually took loan.\n",
    "TP=102\n",
    "#true negatives (TN): We predicted no, and they actually did not took loan.\n",
    "TN=1253\n",
    "#false positives (FP): We predicted yes, but they don't actually took loan.(Also known as a \"Type I error.\")\n",
    "FP=89\n",
    "#false negatives (FN): We predicted no, but they actually took loan.(Also known as a \"Type II error.\")\n",
    "FN=56\n",
    "\n",
    "\n",
    "Accuracy=(TP+TN)/(TP+TN+FP+FN)\n",
    "print('Accuracy of logistic regression classifier on test set: {:.2%}'.format(Accuracy))\n",
    "\n",
    "Misclassification_Rate=(FP+FN)/(TP+TN+FP+FN)\n",
    "print('Misclassification Rate: It is often wrong: {:.2%}'.format(Misclassification_Rate))\n",
    "\n",
    "#Recall\n",
    "Sensitivity=TP/(FN+TP)\n",
    "print('Sensitivity: When its actually yes how often it predicts yes: {:.2%}'.format(Sensitivity))\n",
    "\n",
    "Specificity=TN/(TN+FP)\n",
    "print('Specificity: When its actually no, how often does it predict no: {:.2%}'.format(Specificity))\n",
    "\n",
    "Precision=TP/(FP+TP)\n",
    "print('Precision: When it predicts yes, how often is it correct: {:.2%}'.format(Precision))\n",
    "\n",
    "#ROC Curve\n",
    "GNB_roc_auc = roc_auc_score(y_test, GNB1.predict(X_test))\n",
    "fpr, tpr, thresholds = roc_curve(y_test, GNB1.predict_proba(X_test)[:,1])\n",
    "plt.figure()\n",
    "plt.plot(fpr, tpr, label='GNB (area = %0.2f)' % GNB_roc_auc)\n",
    "plt.plot([0, 1], [0, 1],'r--')\n",
    "plt.xlim([0.0, 1.0])\n",
    "plt.ylim([0.0, 1.05])\n",
    "plt.xlabel('False Positive Rate')\n",
    "plt.ylabel('True Positive Rate')\n",
    "plt.title('Receiver operating characteristic')\n",
    "plt.legend(loc=\"lower right\")\n",
    "#plt.savefig('Log_ROC')\n",
    "plt.show()"
   ]
  },
  {
   "cell_type": "code",
   "execution_count": 110,
   "metadata": {},
   "outputs": [
    {
     "name": "stdout",
     "output_type": "stream",
     "text": [
      "[[1270   72]\n",
      " [  86   72]]\n",
      "Accuracy of logistic regression classifier on test set: 89.47%\n",
      "Misclassification Rate: It is often wrong: 10.53%\n",
      "Sensitivity: When its actually yes how often it predicts yes: 45.57%\n",
      "Specificity: When its actually no, how often does it predict no: 94.63%\n",
      "Precision: When it predicts yes, how often is it correct: 50.00%\n"
     ]
    },
    {
     "data": {
      "image/png": "[encoded data removed]",
      "text/plain": [
       "<Figure size 432x288 with 1 Axes>"
      ]
     },
     "metadata": {
      "needs_background": "light"
     },
     "output_type": "display_data"
    }
   ],
   "source": [
    "#Iteration 2 - Dropping all variables as found in Logistic Regression\n",
    "X_train1=X_train.drop(['Family_2','Education_1','Age','Mortgage','ZIP Code','CCAvg','Education_2',\n",
    "                        'Education_3','Experience'],1)\n",
    "X_test1= X_test.drop(['Family_2','Education_1','Age','Mortgage','ZIP Code','CCAvg','Education_2',\n",
    "                        'Education_3','Experience'],axis=1)\n",
    "\n",
    "GNB2 = GaussianNB()\n",
    "GNB2.fit(X_train1, y_train)\n",
    "predicted_labels_GNB = GNB2.predict(X_test1)\n",
    "\n",
    "GNB2.score(X_test1, y_test)\n",
    "print(metrics.confusion_matrix(y_test, predicted_labels_GNB))\n",
    "\n",
    "#CALCULATING METRICES FOR CHECING MODEL\n",
    "#true positives (TP): These are cases in which we predicted yes, and actually took loan.\n",
    "TP=72\n",
    "#true negatives (TN): We predicted no, and they actually did not took loan.\n",
    "TN=1270\n",
    "#false positives (FP): We predicted yes, but they don't actually took loan.(Also known as a \"Type I error.\")\n",
    "FP=72\n",
    "#false negatives (FN): We predicted no, but they actually took loan.(Also known as a \"Type II error.\")\n",
    "FN=86\n",
    "\n",
    "\n",
    "Accuracy=(TP+TN)/(TP+TN+FP+FN)\n",
    "print('Accuracy of logistic regression classifier on test set: {:.2%}'.format(Accuracy))\n",
    "\n",
    "Misclassification_Rate=(FP+FN)/(TP+TN+FP+FN)\n",
    "print('Misclassification Rate: It is often wrong: {:.2%}'.format(Misclassification_Rate))\n",
    "\n",
    "#Recall\n",
    "Sensitivity=TP/(FN+TP)\n",
    "print('Sensitivity: When its actually yes how often it predicts yes: {:.2%}'.format(Sensitivity))\n",
    "\n",
    "Specificity=TN/(TN+FP)\n",
    "print('Specificity: When its actually no, how often does it predict no: {:.2%}'.format(Specificity))\n",
    "\n",
    "Precision=TP/(FP+TP)\n",
    "print('Precision: When it predicts yes, how often is it correct: {:.2%}'.format(Precision))\n",
    "\n",
    "#ROC Curve\n",
    "GNB_roc_auc = roc_auc_score(y_test, GNB2.predict(X_test1))\n",
    "fpr, tpr, thresholds = roc_curve(y_test, GNB2.predict_proba(X_test1)[:,1])\n",
    "plt.figure()\n",
    "plt.plot(fpr, tpr, label='GNB (area = %0.2f)' % GNB_roc_auc)\n",
    "plt.plot([0, 1], [0, 1],'r--')\n",
    "plt.xlim([0.0, 1.0])\n",
    "plt.ylim([0.0, 1.05])\n",
    "plt.xlabel('False Positive Rate')\n",
    "plt.ylabel('True Positive Rate')\n",
    "plt.title('Receiver operating characteristic')\n",
    "plt.legend(loc=\"lower right\")\n",
    "#plt.savefig('Log_ROC')\n",
    "plt.show()"
   ]
  },
  {
   "cell_type": "code",
   "execution_count": 111,
   "metadata": {},
   "outputs": [],
   "source": [
    "#Accuracy of logistic regression classifier on test set: 89.47%\n",
    "#Misclassification Rate: It is often wrong: 10.53%\n",
    "#Sensitivity: When its actually yes how often it predicts yes: 45.57%\n",
    "#Specificity: When its actually no, how often does it predict no: 94.63%\n",
    "#Precision: When it predicts yes, how often is it correct: 50.00%"
   ]
  },
  {
   "cell_type": "code",
   "execution_count": 112,
   "metadata": {},
   "outputs": [],
   "source": [
    "#Chossing the best of all 3 models and below are there results:\n",
    "\n",
    "#Model\t  Results\t\t\t\t\t\t\t\t\t                                      Matrix\n",
    "#Logistic Accuracy of logistic regression classifier on test set:            92.93%\t\t [[1317   25]\n",
    "#\t      Misclassification Rate:It is often wrong:                           7.07%\t\t  [  81   77]]\n",
    "#\t      Sensitivity: When its actually yes how often it predicts yes:      48.73%\n",
    "#\t      Specificity: When its actually no, how often does it predict no:   98.14%\n",
    "#\t      Precision: When it predicts yes, how often is it correct:          75.49%\n",
    "#\t\n",
    "\n",
    "#KNN\t  Accuracy of logistic regression classifier on test set:            94.80%\t\t [[1330   12]\n",
    "#\t      Misclassification Rate: It is often wrong:                          5.20%\t\t  [  66   92]]\n",
    "#\t      Sensitivity: When its actually yes how often it predicts yes:      58.23%\n",
    "#\t      Specificity: When its actually no, how often does it predict no:   99.11%\n",
    "#\t      Precision: When it predicts yes, how often is it correct:          88.46%\n",
    "#\t\n",
    "#GNB\t  Accuracy of logistic regression classifier on test set:            90.33%\t\t [[1253   89]\n",
    "#\t      Misclassification Rate: It is often wrong:                          9.67%\t\t  [  56  102]]\n",
    "#\t      Sensitivity: When its actually yes how often it predicts yes:      64.56%\n",
    "#\t      Specificity: When its actually no, how often does it predict no:   93.37%\n",
    "#\t      Precision: When it predicts yes, how often is it correct:          53.40%\n",
    "#"
   ]
  },
  {
   "cell_type": "code",
   "execution_count": 113,
   "metadata": {},
   "outputs": [],
   "source": [
    "#KNN model performs the best, evident from above results. However, Sensitivity is greater in GNB.\n",
    "#The yes prediction is on lower side as data is not balanced. Data was not altered as figure represented the \n",
    "#true picture of market i.e. person who took loan are on lower side.\n",
    "#If we apply the model and change our approach and target only those predicted as yes first, it is 88% (Precision)\n",
    "#chance they will take loan. Hence our chances that a person takes personal loan increases.\n",
    "#Though our Sensitivity is around 58% still we end up offering more loans at end of program"
   ]
  },
  {
   "cell_type": "code",
   "execution_count": null,
   "metadata": {},
   "outputs": [],
   "source": []
  },
  {
   "cell_type": "code",
   "execution_count": null,
   "metadata": {},
   "outputs": [],
   "source": []
  }
 ],
 "metadata": {
  "kernelspec": {
   "display_name": "Python 3",
   "language": "python",
   "name": "python3"
  },
  "language_info": {
   "codemirror_mode": {
    "name": "ipython",
    "version": 3
   },
   "file_extension": ".py",
   "mimetype": "text/x-python",
   "name": "python",
   "nbconvert_exporter": "python",
   "pygments_lexer": "ipython3",
   "version": "3.7.6"
  }
 },
 "nbformat": 4,
 "nbformat_minor": 4
}
